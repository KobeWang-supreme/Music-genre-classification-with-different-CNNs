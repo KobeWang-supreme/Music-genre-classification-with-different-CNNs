{
  "cells": [
    {
      "cell_type": "markdown",
      "metadata": {
        "colab_type": "text",
        "id": "view-in-github"
      },
      "source": [
        "<a href=\"https://colab.research.google.com/github/KobeWang-supreme/Music-genre-classification-with-different-CNNswith-different-CNN/blob/main/My_Design_CNN.ipynb\" target=\"_parent\"><img src=\"https://colab.research.google.com/assets/colab-badge.svg\" alt=\"Open In Colab\"/></a>"
      ]
    },
    {
      "cell_type": "markdown",
      "metadata": {
        "id": "I3OT7VGDJcyR"
      },
      "source": [
        "We are using the dataset called \"GTZAN\", which is widely used in Music Genre Classification.\n",
        "Our goal is to use audios' mfccs to make the classification. This data_deal.ipynb will show how mfccs are generated."
      ]
    },
    {
      "cell_type": "code",
      "execution_count": 1,
      "metadata": {
        "colab": {
          "base_uri": "https://localhost:8080/"
        },
        "id": "IOZoCer3Jey0",
        "outputId": "d9a2d877-d3fe-4db1-b63d-01f038dfe0d2"
      },
      "outputs": [
        {
          "name": "stdout",
          "output_type": "stream",
          "text": [
            "Mounted at /content/drive\n"
          ]
        }
      ],
      "source": [
        "from google.colab import drive\n",
        "drive.mount('/content/drive')"
      ]
    },
    {
      "cell_type": "code",
      "execution_count": 1,
      "metadata": {
        "id": "SfAnIcTlJcyT"
      },
      "outputs": [
        {
          "name": "stderr",
          "output_type": "stream",
          "text": [
            "c:\\Users\\29736\\.conda\\envs\\Music\\lib\\site-packages\\scipy\\__init__.py:132: UserWarning: A NumPy version >=1.21.6 and <1.28.0 is required for this version of SciPy (detected version 1.21.5)\n",
            "  warnings.warn(f\"A NumPy version >={np_minversion} and <{np_maxversion}\"\n"
          ]
        }
      ],
      "source": [
        "import numpy as np\n",
        "import pandas as pd\n",
        "import librosa\n",
        "import os\n",
        "import tqdm\n",
        "import matplotlib.pyplot as plt\n",
        "import random\n",
        "import librosa.display\n",
        "from mpl_toolkits.axes_grid1 import make_axes_locatable\n",
        "import torch\n",
        "import torchvision\n",
        "from torchvision import transforms\n",
        "from torchvision.datasets import ImageFolder\n",
        "from torch.utils.data.dataloader import DataLoader\n",
        "from torch.utils.data import random_split\n",
        "from torchvision.utils import make_grid\n",
        "import torch.nn as nn\n",
        "import torch.nn.functional as F\n",
        "from sklearn.model_selection import train_test_split\n",
        "from torch.utils.data import Dataset, TensorDataset\n",
        "from sklearn.metrics import classification_report\n",
        "from sklearn import metrics"
      ]
    },
    {
      "cell_type": "markdown",
      "metadata": {
        "id": "id7_WagaJcyU"
      },
      "source": [
        "First we should read the data."
      ]
    },
    {
      "cell_type": "code",
      "execution_count": 2,
      "metadata": {
        "id": "CDN1YRsfJcyU"
      },
      "outputs": [],
      "source": [
        "def data_read(directory=r\"F:\\music\\archive\\Data\\genres_original\"): # change the directory if you like \n",
        "    data = [] # Store all data (read from music)\n",
        "    labels = [] # Store corresponding labels\n",
        "    srs = []\n",
        "\n",
        "    x = 0\n",
        "\n",
        "    for dirname, _, filenames in os.walk(r\"F:\\music\\archive\\Data\\genres_original\"):\n",
        "        for filename in filenames:\n",
        "            # Get name and skip the broken\n",
        "            if x == 554 or x < 100 or x > 699:  # skip the broken one \n",
        "                x += 1\n",
        "                continue\n",
        "            if x >= 200 and x < 300:\n",
        "                x += 1\n",
        "                continue\n",
        "            filename = os.path.join(dirname, filename)\n",
        "            \n",
        "            y, sr = librosa.load(filename)\n",
        "            # print(filename)\n",
        "            label = filename.split('\\\\')[5]\n",
        "\n",
        "            # Append them to the final data\n",
        "            data.append(y)\n",
        "            labels.append(label)\n",
        "            srs.append(sr)\n",
        "            x += 1\n",
        "            #print(x)  # counting\n",
        "    #print(len(data))\n",
        "            \n",
        "    return data, labels, srs"
      ]
    },
    {
      "cell_type": "code",
      "execution_count": 3,
      "metadata": {
        "id": "7h0G2NNzJcyU"
      },
      "outputs": [
        {
          "name": "stdout",
          "output_type": "stream",
          "text": [
            "499\n"
          ]
        }
      ],
      "source": [
        "\n",
        "data, labels, srs = data_read()\n",
        "print(len(data))"
      ]
    },
    {
      "cell_type": "markdown",
      "metadata": {
        "id": "JmDvZ07AJcyU"
      },
      "source": [
        "Get one random sample to show whether we read the data successfully."
      ]
    },
    {
      "cell_type": "code",
      "execution_count": 4,
      "metadata": {
        "colab": {
          "base_uri": "https://localhost:8080/",
          "height": 472
        },
        "id": "V96rzIcGJcyU",
        "outputId": "6abf8788-dad2-476b-e686-9d581731b564"
      },
      "outputs": [
        {
          "data": {
            "image/png": "[encoded data removed]",
            "text/plain": [
              "<Figure size 640x480 with 1 Axes>"
            ]
          },
          "metadata": {},
          "output_type": "display_data"
        }
      ],
      "source": [
        "def check():\n",
        "    fig, axi = plt.subplots(1,1) # initialize\n",
        "    ind = random.randint(0, len(labels)-1) # randomly choose one index\n",
        "    times = [sample/srs[ind] for sample in range(len(data[ind]))] # get time axis\n",
        "    axi.plot(times, data[ind])\n",
        "    axi.set_ylabel('Normalized Amplitude')\n",
        "    axi.set_xlabel('Time /s')\n",
        "    axi.set(title = \"one example from \" + labels[ind].capitalize())\n",
        "\n",
        "    plt.show()\n",
        "\n",
        "check()"
      ]
    },
    {
      "cell_type": "markdown",
      "metadata": {
        "id": "a9MtHgXsJcyV"
      },
      "source": [
        "Then we need to extract mfccs features from \"data\""
      ]
    },
    {
      "cell_type": "code",
      "execution_count": 5,
      "metadata": {
        "id": "HhxjRlSdJcyV"
      },
      "outputs": [],
      "source": [
        "def get_mels(data, srs):\n",
        "    '''\n",
        "        input: data : array like data structure\n",
        "               src : sampling rates\n",
        "               num_mfcc: how many mfcc features you want\n",
        "\n",
        "        return: mfccs\n",
        "    '''\n",
        "    mels = []\n",
        "    for i in range(len(data)):\n",
        "        mel = librosa.feature.melspectrogram(y=data[i], sr=srs[i], n_mels= 128, fmax=8000).T\n",
        "        #print(np.shape(mel))\n",
        "        mels.append(mel)\n",
        "\n",
        "\n",
        "    return mels # contains every music's mfcc"
      ]
    },
    {
      "cell_type": "code",
      "execution_count": 6,
      "metadata": {
        "id": "8J6VMetgJcyV"
      },
      "outputs": [],
      "source": [
        "mfccs = get_mels(data, srs)"
      ]
    },
    {
      "cell_type": "markdown",
      "metadata": {
        "id": "9RWPaVHvJcyV"
      },
      "source": [
        "Then we need to pad mfccs to make them have the same length"
      ]
    },
    {
      "cell_type": "code",
      "execution_count": 7,
      "metadata": {
        "id": "eQ0JrEnMJcyV"
      },
      "outputs": [],
      "source": [
        "max_length = len(max(mfccs, key=len)) # get the max length\n",
        "def pad_mfcc(mfccs, max_length):\n",
        "    'pads'\n",
        "    mfccs_padded = []\n",
        "    for mfcc in mfccs:\n",
        "        mfcc_padded = np.pad(mfcc, pad_width=[(0,max_length-mfcc[:,0].shape[0]),(0,0)])\n",
        "        mfccs_padded.append(mfcc_padded)\n",
        "    return mfccs_padded"
      ]
    },
    {
      "cell_type": "code",
      "execution_count": 8,
      "metadata": {
        "id": "KC_-GVD7JcyV"
      },
      "outputs": [],
      "source": [
        "mfccs_padded = pad_mfcc(mfccs, max_length)"
      ]
    },
    {
      "cell_type": "code",
      "execution_count": 9,
      "metadata": {
        "colab": {
          "base_uri": "https://localhost:8080/"
        },
        "id": "7PMeeoCHZEUZ",
        "outputId": "8140c370-5e54-4a2f-9f3e-7be4866e7e67"
      },
      "outputs": [
        {
          "name": "stdout",
          "output_type": "stream",
          "text": [
            "(1320, 128)\n"
          ]
        }
      ],
      "source": [
        "print(np.shape(mfccs_padded[0]))\n"
      ]
    },
    {
      "cell_type": "markdown",
      "metadata": {
        "id": "OypB7gjqJcyV"
      },
      "source": [
        "Next, we put the mfccs_padded into dataloader"
      ]
    },
    {
      "cell_type": "code",
      "execution_count": 10,
      "metadata": {
        "colab": {
          "base_uri": "https://localhost:8080/"
        },
        "id": "kuIuTdsmJcyV",
        "outputId": "7a90028c-5b30-4437-db75-9bcf32c9c319"
      },
      "outputs": [
        {
          "name": "stdout",
          "output_type": "stream",
          "text": [
            "        labels\n",
            "0    classical\n",
            "1    classical\n",
            "2    classical\n",
            "3    classical\n",
            "4    classical\n",
            "..         ...\n",
            "494      metal\n",
            "495      metal\n",
            "496      metal\n",
            "497      metal\n",
            "498      metal\n",
            "\n",
            "[499 rows x 1 columns]\n",
            "     labels\n",
            "0         0\n",
            "1         0\n",
            "2         0\n",
            "3         0\n",
            "4         0\n",
            "..      ...\n",
            "494       4\n",
            "495       4\n",
            "496       4\n",
            "497       4\n",
            "498       4\n",
            "\n",
            "[499 rows x 1 columns]\n",
            "[0 0 0 0 0 0 0 0 0 0 0 0 0 0 0 0 0 0 0 0 0 0 0 0 0 0 0 0 0 0 0 0 0 0 0 0 0\n",
            " 0 0 0 0 0 0 0 0 0 0 0 0 0 0 0 0 0 0 0 0 0 0 0 0 0 0 0 0 0 0 0 0 0 0 0 0 0\n",
            " 0 0 0 0 0 0 0 0 0 0 0 0 0 0 0 0 0 0 0 0 0 0 0 0 0 0 1 1 1 1 1 1 1 1 1 1 1\n",
            " 1 1 1 1 1 1 1 1 1 1 1 1 1 1 1 1 1 1 1 1 1 1 1 1 1 1 1 1 1 1 1 1 1 1 1 1 1\n",
            " 1 1 1 1 1 1 1 1 1 1 1 1 1 1 1 1 1 1 1 1 1 1 1 1 1 1 1 1 1 1 1 1 1 1 1 1 1\n",
            " 1 1 1 1 1 1 1 1 1 1 1 1 1 1 1 2 2 2 2 2 2 2 2 2 2 2 2 2 2 2 2 2 2 2 2 2 2\n",
            " 2 2 2 2 2 2 2 2 2 2 2 2 2 2 2 2 2 2 2 2 2 2 2 2 2 2 2 2 2 2 2 2 2 2 2 2 2\n",
            " 2 2 2 2 2 2 2 2 2 2 2 2 2 2 2 2 2 2 2 2 2 2 2 2 2 2 2 2 2 2 2 2 2 2 2 2 2\n",
            " 2 2 2 2 3 3 3 3 3 3 3 3 3 3 3 3 3 3 3 3 3 3 3 3 3 3 3 3 3 3 3 3 3 3 3 3 3\n",
            " 3 3 3 3 3 3 3 3 3 3 3 3 3 3 3 3 3 3 3 3 3 3 3 3 3 3 3 3 3 3 3 3 3 3 3 3 3\n",
            " 3 3 3 3 3 3 3 3 3 3 3 3 3 3 3 3 3 3 3 3 3 3 3 3 3 3 3 3 3 4 4 4 4 4 4 4 4\n",
            " 4 4 4 4 4 4 4 4 4 4 4 4 4 4 4 4 4 4 4 4 4 4 4 4 4 4 4 4 4 4 4 4 4 4 4 4 4\n",
            " 4 4 4 4 4 4 4 4 4 4 4 4 4 4 4 4 4 4 4 4 4 4 4 4 4 4 4 4 4 4 4 4 4 4 4 4 4\n",
            " 4 4 4 4 4 4 4 4 4 4 4 4 4 4 4 4 4 4]\n"
          ]
        }
      ],
      "source": [
        "# convert data to numpy array\n",
        "X = np.asarray(mfccs_padded)\n",
        "# Mapping labels\n",
        "codes = {\n",
        "    \n",
        "    'classical':0,\n",
        "    'disco':1,\n",
        "    'hiphop':2,\n",
        "    'jazz':3,\n",
        "    'metal':4,\n",
        "    \n",
        "}\n",
        "\n",
        "df_map = pd.DataFrame (labels, columns = ['labels'])\n",
        "print(df_map)\n",
        "df_map['labels'] = df_map['labels'].map(codes)\n",
        "print(df_map)\n",
        "y = df_map['labels'].to_numpy()\n",
        "print(y)"
      ]
    },
    {
      "cell_type": "code",
      "execution_count": 11,
      "metadata": {
        "id": "BlzEHGEeJcyV"
      },
      "outputs": [],
      "source": [
        "# To split train_data, valid_data and test_data\n",
        "def train_val_test_split(x, y, test_size, val_size, random_state=None, stratify=None):\n",
        "    x_t, x_test, y_t, y_test = train_test_split(x, y, test_size=test_size, random_state=random_state, stratify=stratify)\n",
        "    if stratify is not None:\n",
        "        stratify = y_t\n",
        "    x_train, x_val, y_train, y_val = train_test_split(x_t, y_t, test_size=val_size, random_state=random_state, stratify=stratify)\n",
        "\n",
        "    return x_train, y_train, x_val, y_val, x_test, y_test\n",
        "\n",
        "def to_Dataloader(x_train, y_train, x_val, y_val, x_test, y_test, batch_size, test_batch=1,shuffle=True):\n",
        "\n",
        "    train_dataset = TensorDataset(torch.Tensor(x_train),torch.Tensor(y_train).type(torch.LongTensor)) # create train_dataset\n",
        "    val_dataset = TensorDataset(torch.Tensor(x_val),torch.Tensor(y_val).type(torch.LongTensor)) # create val_dataset\n",
        "    test_dataset = TensorDataset(torch.Tensor(x_test),torch.Tensor(y_test).type(torch.LongTensor)) # create test_dataset\n",
        "\n",
        "    train_dataloader = DataLoader(train_dataset, batch_size=batch_size, shuffle=shuffle) # create your train_dataloader\n",
        "    val_dataloader = DataLoader(val_dataset, batch_size=batch_size, shuffle=shuffle) # create your val_dataloader\n",
        "    test_dataloader = DataLoader(test_dataset, batch_size=test_batch, shuffle=shuffle) # create your test_dataloader\n",
        "\n",
        "    return train_dataloader, val_dataloader, test_dataloader"
      ]
    },
    {
      "cell_type": "code",
      "execution_count": 27,
      "metadata": {
        "colab": {
          "base_uri": "https://localhost:8080/"
        },
        "id": "tOXMNxExJcyW",
        "outputId": "a3fe7822-b08c-4e94-fec6-76eebd303667"
      },
      "outputs": [
        {
          "name": "stdout",
          "output_type": "stream",
          "text": [
            "finished\n"
          ]
        }
      ],
      "source": [
        "x_train, y_train, x_val, y_val, x_test, y_test = train_val_test_split(X, y, test_size=0.15, val_size=0.15, random_state=42, stratify=y)\n",
        "\n",
        "train_dataloader, val_dataloader, test_dataloader = to_Dataloader(x_train, y_train, x_val, y_val, x_test, y_test, batch_size=64, test_batch=1,shuffle=True)\n",
        "\n",
        "print('finished')"
      ]
    },
    {
      "cell_type": "markdown",
      "metadata": {
        "id": "TVOsFyMOJcyW"
      },
      "source": [
        "We then define a class called \"early stop \"\n",
        "It is from : \"https://github.com/Bjarten/early-stopping-pytorch/blob/master/pytorchtools.py\""
      ]
    },
    {
      "cell_type": "code",
      "execution_count": 13,
      "metadata": {
        "id": "2wPrtEQaJcyW"
      },
      "outputs": [],
      "source": [
        "class EarlyStopping:\n",
        "    \"\"\"Early stops the training if validation loss doesn't improve after a given patience.\"\"\"\n",
        "    def __init__(self, patience=7, verbose=False, delta=0, path='checkpoint.pt', trace_func=print):\n",
        "        \"\"\"\n",
        "        Args:\n",
        "            patience (int): How long to wait after last time validation loss improved.\n",
        "                            Default: 7\n",
        "            verbose (bool): If True, prints a message for each validation loss improvement.\n",
        "                            Default: False\n",
        "            delta (float): Minimum change in the monitored quantity to qualify as an improvement.\n",
        "                            Default: 0\n",
        "            path (str): Path for the checkpoint to be saved to.\n",
        "                            Default: 'checkpoint.pt'\n",
        "            trace_func (function): trace print function.\n",
        "                            Default: print\n",
        "        \"\"\"\n",
        "        self.patience = patience\n",
        "        self.verbose = verbose\n",
        "        self.counter = 0\n",
        "        self.best_score = None\n",
        "        self.early_stop = False\n",
        "        self.val_loss_min = np.Inf\n",
        "        self.delta = delta\n",
        "        self.path = path\n",
        "        self.trace_func = trace_func\n",
        "    def __call__(self, val_loss, model):\n",
        "\n",
        "        score = -val_loss\n",
        "\n",
        "        if self.best_score is None:\n",
        "            self.best_score = score\n",
        "            self.save_checkpoint(val_loss, model)\n",
        "        elif score < self.best_score + self.delta:\n",
        "            self.counter += 1\n",
        "            self.trace_func(f'EarlyStopping counter: {self.counter} out of {self.patience}')\n",
        "            if self.counter >= self.patience:\n",
        "                self.early_stop = True\n",
        "        else:\n",
        "            self.best_score = score\n",
        "            self.save_checkpoint(val_loss, model)\n",
        "            self.counter = 0\n",
        "\n",
        "    def save_checkpoint(self, val_loss, model):\n",
        "        '''Saves model when validation loss decrease.'''\n",
        "        if self.verbose:\n",
        "            self.trace_func(f'Validation loss decreased ({self.val_loss_min:.6f} --> {val_loss:.6f}).  Saving model ...')\n",
        "        torch.save(model.state_dict(), self.path)\n",
        "        self.val_loss_min = val_loss"
      ]
    },
    {
      "cell_type": "markdown",
      "metadata": {
        "id": "2wDOdJLwJcyW"
      },
      "source": [
        "After doing all things above, it is time to build our model to train this dataset!"
      ]
    },
    {
      "cell_type": "markdown",
      "metadata": {
        "id": "bGH7g_UMJcyW"
      },
      "source": [
        "For the first model, we try to Reproducing GoogleNet:"
      ]
    },
    {
      "cell_type": "code",
      "execution_count": 18,
      "metadata": {
        "id": "ipT8DgneJcyW"
      },
      "outputs": [],
      "source": [
        "# A class to define the Inception\n",
        "class Inception(nn.Module):\n",
        "    def __init__(self, in_channels, c1, c2, c3, c4, **kwargs):\n",
        "        super(Inception, self).__init__(**kwargs)\n",
        "        self.p1_1 = nn.Conv2d(in_channels, c1, kernel_size=1)\n",
        "        #1X1 kernel\n",
        "        self.p2_1 = nn.Conv2d(in_channels, c2[0], kernel_size=1)\n",
        "        self.p2_2 = nn.Conv2d(c2[0], c2[1], kernel_size=3, padding=1)\n",
        "        #1X1,3X3 kernel\n",
        "        self.p3_1 = nn.Conv2d(in_channels, c3[0], kernel_size=1)\n",
        "        self.p3_2 = nn.Conv2d(c3[0], c3[1], kernel_size=5, padding=2)\n",
        "        #1X1,5X5 kernel\n",
        "        self.p4_1 = nn.MaxPool2d(kernel_size=3, stride=1, padding=1)\n",
        "        self.p4_2 = nn.Conv2d(in_channels, c4, kernel_size=1)\n",
        "        #maxpool, 1x1 kernel\n",
        "    def forward(self, x):\n",
        "        p1 = F.relu(self.p1_1(x))\n",
        "        p2 = F.relu(self.p2_2(F.relu(self.p2_1(x))))\n",
        "        p3 = F.relu(self.p3_2(F.relu(self.p3_1(x))))\n",
        "        p4 = F.relu(self.p4_2(self.p4_1(x)))\n",
        "        # Sequentialize\n",
        "        return torch.cat((p1, p2, p3, p4), dim=1)\n",
        "\n",
        "\n",
        "class GoogleNet(nn.Module):\n",
        "    def __init__(self):\n",
        "        super(GoogleNet, self).__init__()\n",
        "        self.num_conv_layers = 5\n",
        "        b1 = nn.Sequential(nn.Conv2d(1, 64, kernel_size=7, stride=2, padding=3),\n",
        "                   nn.ReLU(),\n",
        "                   nn.MaxPool2d(kernel_size=3, stride=2, padding=1))\n",
        "\n",
        "        b2 = nn.Sequential(nn.Conv2d(64, 64, kernel_size=1),\n",
        "                   nn.ReLU(),\n",
        "                   nn.Conv2d(64, 192, kernel_size=3, padding=1),\n",
        "                   nn.ReLU(),\n",
        "                   nn.MaxPool2d(kernel_size=3, stride=2, padding=1))\n",
        "\n",
        "        b3 = nn.Sequential(Inception(192, 64, (96, 128), (16, 32), 32),\n",
        "                   Inception(256, 128, (128, 192), (32, 96), 64),\n",
        "                   nn.MaxPool2d(kernel_size=3, stride=2, padding=1))\n",
        "\n",
        "        b4 = nn.Sequential(Inception(480, 192, (96, 208), (16, 48), 64),\n",
        "                   Inception(512, 160, (112, 224), (24, 64), 64),\n",
        "                   Inception(512, 128, (128, 256), (24, 64), 64),\n",
        "                   Inception(512, 112, (144, 288), (32, 64), 64),\n",
        "                   Inception(528, 256, (160, 320), (32, 128), 128),\n",
        "                   nn.MaxPool2d(kernel_size=3, stride=2, padding=1))\n",
        "\n",
        "        b5 = nn.Sequential(Inception(832, 256, (160, 320), (32, 128), 128),\n",
        "                   Inception(832, 384, (192, 384), (48, 128), 128),\n",
        "                   nn.AdaptiveAvgPool2d((1,1)),\n",
        "                   nn.Flatten())\n",
        "        #seq = [b1, b2, b3, b4, b5]\n",
        "        self.fitter = nn.Sequential(b1, b2, b3, b4, b5, nn.Linear(1024, 128),nn.Dropout(0.25), nn.Linear(128, 10))\n",
        "\n",
        "    def forward(self, x):\n",
        "\n",
        "        x = x.transpose(1,2)\n",
        "        x.unsqueeze_(1)\n",
        "        out = self.fitter(x)\n",
        "        return out"
      ]
    },
    {
      "cell_type": "code",
      "execution_count": 14,
      "metadata": {
        "id": "A62PNdvTJcyW"
      },
      "outputs": [],
      "source": [
        "# Then we wanna define a resnet\n",
        "class MelSpecClassifier (nn.Module):\n",
        "    # ----------------------------\n",
        "    # Build the model architecture\n",
        "    # ----------------------------\n",
        "    def __init__(self):\n",
        "        super().__init__()\n",
        "        conv_layers = []\n",
        "\n",
        "        # First Convolution Block\n",
        "        self.b1 = nn.Sequential(nn.Conv2d(1, 64, kernel_size=7, stride=2, padding=3),\n",
        "                   nn.ReLU(),\n",
        "                   nn.MaxPool2d(kernel_size=3, stride=2, padding=1))\n",
        "\n",
        "\n",
        "\n",
        "        conv_layers += [self.b1, nn.Conv2d(64, 64, kernel_size=1), nn.ReLU()]\n",
        "\n",
        "        # Second Convolution Block\n",
        "        self.conv2 = nn.Conv2d(64, 256, kernel_size=3, stride=2, padding=1)\n",
        "        self.relu2 = nn.PReLU()\n",
        "        self.bn2 = nn.BatchNorm2d(256)\n",
        "        conv_layers += [self.conv2, self.relu2, self.bn2]\n",
        "\n",
        "        # Third Convolution Block\n",
        "        self.conv3 = nn.Conv2d(256, 512, kernel_size=3, stride=2, padding=1)\n",
        "        self.relu3 = nn.PReLU()\n",
        "        self.bn3 = nn.BatchNorm2d(512)\n",
        "        conv_layers += [self.conv3, self.relu3, self.bn3]\n",
        "        '''\n",
        "        #4th\n",
        "        self.conv_ = nn.Conv2d(512, 1024, kernel_size=3, stride=2, padding=1)\n",
        "        self.relu_ = nn.PReLU()\n",
        "        self.bn_ = nn.BatchNorm2d(1024)\n",
        "        conv_layers += [self.conv_, self.relu_, self.bn_]\n",
        "        '''\n",
        "\n",
        "        # 5th Convolution Block\n",
        "        self.conv4 = nn.Conv2d(512, 256, kernel_size=3, stride=2, padding=1)\n",
        "        self.relu4 = nn.PReLU()\n",
        "        self.bn4 = nn.BatchNorm2d(256)\n",
        "        conv_layers += [self.conv4, self.relu4, self.bn4]\n",
        "\n",
        "        # 6th Convolution Block\n",
        "        self.conv5 = nn.Conv2d(256, 128, kernel_size=3, stride=2, padding=1)\n",
        "        self.relu5 = nn.PReLU()\n",
        "        self.bn5 = nn.BatchNorm2d(128)\n",
        "        conv_layers += [self.conv5, self.relu5, self.bn5]\n",
        "\n",
        "\n",
        "        # Dropout Layer\n",
        "        self.drp = nn.Dropout2d(p = 0.4)\n",
        "\n",
        "        # Linear Classifier\n",
        "        self.ap = nn.AdaptiveAvgPool2d(output_size=1)\n",
        "        self.fc = nn.Linear(in_features=128, out_features=64)\n",
        "\n",
        "        # Wrap the Convolutional Blocks\n",
        "        self.fitter = nn.Sequential(*conv_layers, self.drp, self.ap, nn.Flatten(), self.fc, nn.Linear(in_features=64, out_features=5))\n",
        "\n",
        "        self.initialize_weights()\n",
        "\n",
        "\n",
        "    def forward(self, x):\n",
        "\n",
        "        x = x.transpose(1,2)\n",
        "        x.unsqueeze_(1)\n",
        "        out = self.fitter(x)\n",
        "        return out\n",
        "\n",
        "\n",
        "\n",
        "\n",
        "    def initialize_weights(self) :\n",
        "        for m in self.modules() :\n",
        "            if isinstance(m, nn.Conv2d) :\n",
        "                nn.init.kaiming_normal_(m.weight, a = 0.1)\n",
        "\n",
        "                if m.bias is not None :\n",
        "                    nn.init.constant_(m.bias, 0)\n"
      ]
    },
    {
      "cell_type": "code",
      "execution_count": 42,
      "metadata": {
        "id": "rycwyDadjBPs"
      },
      "outputs": [],
      "source": [
        "# resnet\n",
        "\n",
        "CARDINALITY = 32\n",
        "DEPTH = 4\n",
        "BASEWIDTH = 64\n",
        "\n",
        "#\"\"\"The grouped convolutional layer in Fig. 3(c) performs 32 groups\n",
        "#of convolutions whose input and output channels are 4-dimensional.\n",
        "#The grouped convolutional layer concatenates them as the outputs\n",
        "#of the layer.\"\"\"\n",
        "\n",
        "class ResNextBottleNeckC(nn.Module):\n",
        "\n",
        "    def __init__(self, in_channels, out_channels, stride):\n",
        "        super().__init__()\n",
        "\n",
        "        C = CARDINALITY #How many groups a feature map was splitted into\n",
        "\n",
        "        #\"\"\"We note that the input/output width of the template is fixed as\n",
        "        #256-d (Fig. 3), We note that the input/output width of the template\n",
        "        #is fixed as 256-d (Fig. 3), and all widths are dou- bled each time\n",
        "        #when the feature map is subsampled (see Table 1).\"\"\"\n",
        "        D = int(DEPTH * out_channels / BASEWIDTH) #number of channels per group\n",
        "        self.split_transforms = nn.Sequential(\n",
        "            nn.Conv2d(in_channels, C * D, kernel_size=1, groups=C, bias=False),\n",
        "            nn.BatchNorm2d(C * D),\n",
        "            nn.ReLU(inplace=True),\n",
        "            nn.Conv2d(C * D, C * D, kernel_size=3, stride=stride, groups=C, padding=1, bias=False),\n",
        "            nn.BatchNorm2d(C * D),\n",
        "            nn.ReLU(inplace=True),\n",
        "            nn.Conv2d(C * D, out_channels * 4, kernel_size=1, bias=False),\n",
        "            nn.BatchNorm2d(out_channels * 4),\n",
        "        )\n",
        "\n",
        "        self.shortcut = nn.Sequential()\n",
        "\n",
        "        if stride != 1 or in_channels != out_channels * 4:\n",
        "            self.shortcut = nn.Sequential(\n",
        "                nn.Conv2d(in_channels, out_channels * 4, stride=stride, kernel_size=1, bias=False),\n",
        "                nn.BatchNorm2d(out_channels * 4)\n",
        "            )\n",
        "\n",
        "    def forward(self, x):\n",
        "        return F.relu(self.split_transforms(x) + self.shortcut(x))\n",
        "\n",
        "class ResNext(nn.Module):\n",
        "\n",
        "    def __init__(self, block, num_blocks, class_names=100):\n",
        "        super().__init__()\n",
        "        self.in_channels = 64\n",
        "\n",
        "        self.conv1 = nn.Sequential(\n",
        "            nn.Conv2d(1, 64, 3, stride=1, padding=1, bias=False),\n",
        "            nn.BatchNorm2d(64),\n",
        "            nn.ReLU(inplace=True)\n",
        "        )\n",
        "\n",
        "        self.conv2 = self._make_layer(block, num_blocks[0], 64, 1)\n",
        "        self.conv3 = self._make_layer(block, num_blocks[1], 128, 2)\n",
        "        self.conv4 = self._make_layer(block, num_blocks[2], 256, 2)\n",
        "        self.conv5 = self._make_layer(block, num_blocks[3], 512, 2)\n",
        "        self.avg = nn.AdaptiveAvgPool2d((1, 1))\n",
        "        self.fc = nn.Linear(512 * 4, 10)\n",
        "\n",
        "\n",
        "    def forward(self, x):\n",
        "\n",
        "        #x = x.transpose(1,2)\n",
        "        x.unsqueeze_(1)\n",
        "        x = self.conv1(x)\n",
        "        x = self.conv2(x)\n",
        "        x = self.conv3(x)\n",
        "        x = self.conv4(x)\n",
        "        x = self.conv5(x)\n",
        "        x = self.avg(x)\n",
        "        x = x.view(x.size(0), -1)\n",
        "        x = self.fc(x)\n",
        "        return x\n",
        "\n",
        "    def _make_layer(self, block, num_block, out_channels, stride):\n",
        "        \"\"\"Building resnext block\n",
        "        Args:\n",
        "            block: block type(default resnext bottleneck c)\n",
        "            num_block: number of blocks per layer\n",
        "            out_channels: output channels per block\n",
        "            stride: block stride\n",
        "\n",
        "        Returns:\n",
        "            a resnext layer\n",
        "        \"\"\"\n",
        "        strides = [stride] + [1] * (num_block - 1)\n",
        "        layers = []\n",
        "        for stride in strides:\n",
        "            layers.append(block(self.in_channels, out_channels, stride))\n",
        "            self.in_channels = out_channels * 4\n",
        "\n",
        "        return nn.Sequential(*layers)\n",
        "\n",
        "def resnext50():\n",
        "    \"\"\" return a resnext50(c32x4d) network\n",
        "    \"\"\"\n",
        "    return ResNext(ResNextBottleNeckC, [3, 4, 6, 3])\n",
        "\n",
        "def resnext101():\n",
        "    \"\"\" return a resnext101(c32x4d) network\n",
        "    \"\"\"\n",
        "    return ResNext(ResNextBottleNeckC, [3, 4, 23, 3])\n",
        "\n",
        "def resnext152():\n",
        "    \"\"\" return a resnext101(c32x4d) network\n",
        "    \"\"\"\n",
        "    return ResNext(ResNextBottleNeckC, [3, 4, 36, 3])"
      ]
    },
    {
      "cell_type": "code",
      "execution_count": 28,
      "metadata": {
        "colab": {
          "base_uri": "https://localhost:8080/"
        },
        "id": "MRGdrz1UJcyW",
        "outputId": "b7b00c0e-bf8a-40ef-e2d1-6eec8ea3a5fa"
      },
      "outputs": [
        {
          "name": "stdout",
          "output_type": "stream",
          "text": [
            "cuda\n"
          ]
        }
      ],
      "source": [
        "# check the device\n",
        "device = torch.device(\"cuda\" if torch.cuda.is_available() else \"cpu\")\n",
        "#device = torch.device(\"cpu\")\n",
        "print(device)"
      ]
    },
    {
      "cell_type": "markdown",
      "metadata": {
        "id": "1zw_YredJcyX"
      },
      "source": [
        "Build functions which used for training and predicting"
      ]
    },
    {
      "cell_type": "code",
      "execution_count": 16,
      "metadata": {
        "id": "jgyIN2q7JcyX"
      },
      "outputs": [],
      "source": [
        "def training_loop(model, train_dataloader, optimizer, device=device):\n",
        "\n",
        "    model.train() # Sets model to train mode\n",
        "    batch_losses = []\n",
        "\n",
        "    for x_batch, y_batch in train_dataloader:\n",
        "        # Move batches to device\n",
        "        x_batch, y_batch = x_batch.to(device), y_batch.to(device)\n",
        "\n",
        "        # Clear gradients\n",
        "        optimizer.zero_grad()\n",
        "\n",
        "        yhat = model(x_batch)  #predictions on x\n",
        "\n",
        "        # Forward pass\n",
        "        loss = loss_function(yhat, y_batch)\n",
        "\n",
        "        # Backward and optimize\n",
        "        loss.backward()\n",
        "\n",
        "        # Update parameters\n",
        "        optimizer.step()\n",
        "\n",
        "        batch_losses.append(loss.data.item())\n",
        "\n",
        "    train_loss = np.mean(batch_losses)\n",
        "\n",
        "    return train_loss  # Return train_loss and anything else you need\n",
        "1\n",
        "def validation_loop(model, val_dataloader, device=device):\n",
        "\n",
        "    model.eval() # Sets model to val mode\n",
        "\n",
        "    batch_losses = []\n",
        "\n",
        "    for x_batch, y_batch in val_dataloader:\n",
        "\n",
        "        x_batch, y_batch = x_batch.to(device), y_batch.to(device)\n",
        "\n",
        "        yhat = model(x_batch)  #predictions on x\n",
        "\n",
        "        loss = loss_function(yhat, y_batch)\n",
        "\n",
        "        batch_losses.append(loss.data.item())\n",
        "\n",
        "    val_loss = np.mean(batch_losses)\n",
        "\n",
        "    return val_loss\n",
        "\n",
        "def train(model, train_dataloader, val_dataloader, optimizer, epochs, device=\"cuda\", patience = None, temp=100):\n",
        "\n",
        "    train_losses = []\n",
        "    val_losses = []\n",
        "\n",
        "    print(f\"Initiating training.\")\n",
        "\n",
        "    # Check if early stop is enabled:\n",
        "    if patience is not None:\n",
        "        # Initialize EarlyStopping\n",
        "        early_stopping = EarlyStopping(patience=patience, verbose=False, path='checkpoint.pt')\n",
        "\n",
        "    for epoch in range(epochs):\n",
        "        # Training loop\n",
        "\n",
        "        train_loss = training_loop(model, train_dataloader, optimizer, device)\n",
        "        train_losses.append(train_loss)\n",
        "\n",
        "        # Validation loop\n",
        "        with torch.no_grad():\n",
        "\n",
        "            val_loss = validation_loop(model, val_dataloader, device)\n",
        "            val_losses.append(val_loss)\n",
        "\n",
        "        if patience != -1:\n",
        "            early_stopping(val_loss, model)\n",
        "\n",
        "            if early_stopping.early_stop:\n",
        "                print(\"Early stop. Going back to the last checkpoint.\")\n",
        "                break\n",
        "\n",
        "        if epoch % temp == 0:\n",
        "            print(f\"[{epoch}/{epochs}] Training loss: {train_loss:.4f}\\t Validation loss: {val_loss:.4f}.\")\n",
        "\n",
        "    if patience != None and early_stopping.early_stop == True:\n",
        "        print('Loading model from checkpoint...')\n",
        "        model.load_state_dict(torch.load('checkpoint.pt'))\n",
        "        print('Checkpoint loaded.')\n",
        "\n",
        "    print(\"training finished.\")\n",
        "\n",
        "    # visualize the loss as the network trained\n",
        "    fig = plt.figure(figsize=(10, 8))\n",
        "    plt.plot(range(1, len(train_losses) + 1), train_losses, label='Training Loss')\n",
        "    plt.plot(range(1, len(val_losses) + 1), val_losses, label='Validation Loss')\n",
        "\n",
        "    # find position of lowest validation loss\n",
        "    minposs = val_losses.index(min(val_losses)) + 1\n",
        "    plt.axvline(minposs, linestyle='--', color='r', label='Early Stopping Checkpoint')\n",
        "\n",
        "    plt.xlabel('epochs')\n",
        "    plt.ylabel('loss')\n",
        "    plt.ylim(0, max(val_losses + train_losses))  # consistent scale\n",
        "    plt.xlim(0, len(train_losses) + 1)  # consistent scale\n",
        "    plt.grid(True)\n",
        "    plt.legend()\n",
        "    plt.tight_layout()\n",
        "    plt.title('Validation and Training Loss of CNN')\n",
        "    plt.show()\n",
        "\n",
        "    return model\n",
        "\n",
        "\n",
        "def predict(model, test_loader, n_features, loss_function, device=device):\n",
        "    # Make predictions using model\n",
        "    preds = []\n",
        "    true_values = []\n",
        "    loss = 0\n",
        "    model.eval()  # prep model for evaluation\n",
        "\n",
        "    with torch.no_grad():\n",
        "        for x_batch, y_batch in test_loader:\n",
        "            # move to device\n",
        "            x_batch, y_batch = x_batch.to(device), y_batch.to(device)\n",
        "\n",
        "            # Make predictions\n",
        "            pred = model(x_batch)\n",
        "\n",
        "            preds.append(np.argmax(pred.cpu().numpy(), axis=1)[0])\n",
        "            true_values.append(y_batch.cpu().numpy()[0])\n",
        "            loss += loss_function(pred, y_batch)\n",
        "\n",
        "        #Calculate Accuracy\n",
        "        accuracy = sum(np.array(preds) == np.array(true_values))/len(true_values)\n",
        "\n",
        "    return preds, true_values, accuracy"
      ]
    },
    {
      "cell_type": "markdown",
      "metadata": {
        "id": "DEvic6k4JcyX"
      },
      "source": [
        "Initialize the model"
      ]
    },
    {
      "cell_type": "code",
      "execution_count": 29,
      "metadata": {
        "colab": {
          "base_uri": "https://localhost:8080/"
        },
        "id": "-xzihqqiJcyX",
        "outputId": "8c8214e0-acae-46be-c1f4-9170be0cdccf"
      },
      "outputs": [
        {
          "data": {
            "text/plain": [
              "MelSpecClassifier(\n",
              "  (b1): Sequential(\n",
              "    (0): Conv2d(1, 64, kernel_size=(7, 7), stride=(2, 2), padding=(3, 3))\n",
              "    (1): ReLU()\n",
              "    (2): MaxPool2d(kernel_size=3, stride=2, padding=1, dilation=1, ceil_mode=False)\n",
              "  )\n",
              "  (conv2): Conv2d(64, 256, kernel_size=(3, 3), stride=(2, 2), padding=(1, 1))\n",
              "  (relu2): PReLU(num_parameters=1)\n",
              "  (bn2): BatchNorm2d(256, eps=1e-05, momentum=0.1, affine=True, track_running_stats=True)\n",
              "  (conv3): Conv2d(256, 512, kernel_size=(3, 3), stride=(2, 2), padding=(1, 1))\n",
              "  (relu3): PReLU(num_parameters=1)\n",
              "  (bn3): BatchNorm2d(512, eps=1e-05, momentum=0.1, affine=True, track_running_stats=True)\n",
              "  (conv4): Conv2d(512, 256, kernel_size=(3, 3), stride=(2, 2), padding=(1, 1))\n",
              "  (relu4): PReLU(num_parameters=1)\n",
              "  (bn4): BatchNorm2d(256, eps=1e-05, momentum=0.1, affine=True, track_running_stats=True)\n",
              "  (conv5): Conv2d(256, 128, kernel_size=(3, 3), stride=(2, 2), padding=(1, 1))\n",
              "  (relu5): PReLU(num_parameters=1)\n",
              "  (bn5): BatchNorm2d(128, eps=1e-05, momentum=0.1, affine=True, track_running_stats=True)\n",
              "  (drp): Dropout2d(p=0.4, inplace=False)\n",
              "  (ap): AdaptiveAvgPool2d(output_size=1)\n",
              "  (fc): Linear(in_features=128, out_features=64, bias=True)\n",
              "  (fitter): Sequential(\n",
              "    (0): Sequential(\n",
              "      (0): Conv2d(1, 64, kernel_size=(7, 7), stride=(2, 2), padding=(3, 3))\n",
              "      (1): ReLU()\n",
              "      (2): MaxPool2d(kernel_size=3, stride=2, padding=1, dilation=1, ceil_mode=False)\n",
              "    )\n",
              "    (1): Conv2d(64, 64, kernel_size=(1, 1), stride=(1, 1))\n",
              "    (2): ReLU()\n",
              "    (3): Conv2d(64, 256, kernel_size=(3, 3), stride=(2, 2), padding=(1, 1))\n",
              "    (4): PReLU(num_parameters=1)\n",
              "    (5): BatchNorm2d(256, eps=1e-05, momentum=0.1, affine=True, track_running_stats=True)\n",
              "    (6): Conv2d(256, 512, kernel_size=(3, 3), stride=(2, 2), padding=(1, 1))\n",
              "    (7): PReLU(num_parameters=1)\n",
              "    (8): BatchNorm2d(512, eps=1e-05, momentum=0.1, affine=True, track_running_stats=True)\n",
              "    (9): Conv2d(512, 256, kernel_size=(3, 3), stride=(2, 2), padding=(1, 1))\n",
              "    (10): PReLU(num_parameters=1)\n",
              "    (11): BatchNorm2d(256, eps=1e-05, momentum=0.1, affine=True, track_running_stats=True)\n",
              "    (12): Conv2d(256, 128, kernel_size=(3, 3), stride=(2, 2), padding=(1, 1))\n",
              "    (13): PReLU(num_parameters=1)\n",
              "    (14): BatchNorm2d(128, eps=1e-05, momentum=0.1, affine=True, track_running_stats=True)\n",
              "    (15): Dropout2d(p=0.4, inplace=False)\n",
              "    (16): AdaptiveAvgPool2d(output_size=1)\n",
              "    (17): Flatten(start_dim=1, end_dim=-1)\n",
              "    (18): Linear(in_features=128, out_features=64, bias=True)\n",
              "    (19): Linear(in_features=64, out_features=5, bias=True)\n",
              "  )\n",
              ")"
            ]
          },
          "execution_count": 29,
          "metadata": {},
          "output_type": "execute_result"
        }
      ],
      "source": [
        "model = MelSpecClassifier()\n",
        "model.to(device)"
      ]
    },
    {
      "cell_type": "code",
      "execution_count": 30,
      "metadata": {
        "id": "CXTZqg3iJcyX"
      },
      "outputs": [],
      "source": [
        "learning_rate = 0.00004\n",
        "weight_decay = 1e-4\n",
        "\n",
        "\n",
        "loss_function = nn.CrossEntropyLoss()\n",
        "optimizer = torch.optim.Adam(model.parameters(), lr = learning_rate, weight_decay = weight_decay)"
      ]
    },
    {
      "cell_type": "code",
      "execution_count": 31,
      "metadata": {
        "colab": {
          "base_uri": "https://localhost:8080/",
          "height": 1000
        },
        "id": "Er4qccEmJcyX",
        "outputId": "e6b70433-968a-4916-eae3-0cf274836197"
      },
      "outputs": [
        {
          "name": "stdout",
          "output_type": "stream",
          "text": [
            "Initiating training.\n",
            "[0/1000] Training loss: 1.4862\t Validation loss: 1.4165.\n",
            "[5/1000] Training loss: 1.1334\t Validation loss: 1.1252.\n",
            "[10/1000] Training loss: 0.9505\t Validation loss: 0.9474.\n",
            "[15/1000] Training loss: 0.7977\t Validation loss: 0.7856.\n",
            "[20/1000] Training loss: 0.6739\t Validation loss: 0.6953.\n",
            "EarlyStopping counter: 1 out of 9\n",
            "[25/1000] Training loss: 0.5636\t Validation loss: 0.5851.\n",
            "EarlyStopping counter: 1 out of 9\n",
            "[30/1000] Training loss: 0.5061\t Validation loss: 0.4915.\n",
            "[35/1000] Training loss: 0.3945\t Validation loss: 0.4250.\n",
            "EarlyStopping counter: 1 out of 9\n",
            "EarlyStopping counter: 1 out of 9\n",
            "[40/1000] Training loss: 0.3198\t Validation loss: 0.3652.\n",
            "EarlyStopping counter: 1 out of 9\n",
            "EarlyStopping counter: 1 out of 9\n",
            "EarlyStopping counter: 1 out of 9\n",
            "[45/1000] Training loss: 0.2557\t Validation loss: 0.3361.\n",
            "EarlyStopping counter: 2 out of 9\n",
            "EarlyStopping counter: 1 out of 9\n",
            "EarlyStopping counter: 2 out of 9\n",
            "EarlyStopping counter: 3 out of 9\n",
            "[50/1000] Training loss: 0.2358\t Validation loss: 0.2933.\n",
            "EarlyStopping counter: 1 out of 9\n",
            "EarlyStopping counter: 2 out of 9\n",
            "EarlyStopping counter: 1 out of 9\n",
            "[55/1000] Training loss: 0.1965\t Validation loss: 0.2693.\n",
            "EarlyStopping counter: 2 out of 9\n",
            "EarlyStopping counter: 1 out of 9\n",
            "EarlyStopping counter: 2 out of 9\n",
            "EarlyStopping counter: 3 out of 9\n",
            "[60/1000] Training loss: 0.1723\t Validation loss: 0.2548.\n",
            "EarlyStopping counter: 1 out of 9\n",
            "EarlyStopping counter: 2 out of 9\n",
            "EarlyStopping counter: 1 out of 9\n",
            "[65/1000] Training loss: 0.1540\t Validation loss: 0.2481.\n",
            "EarlyStopping counter: 2 out of 9\n",
            "EarlyStopping counter: 3 out of 9\n",
            "EarlyStopping counter: 4 out of 9\n",
            "EarlyStopping counter: 5 out of 9\n",
            "EarlyStopping counter: 6 out of 9\n",
            "[70/1000] Training loss: 0.1271\t Validation loss: 0.2480.\n",
            "EarlyStopping counter: 7 out of 9\n",
            "EarlyStopping counter: 8 out of 9\n",
            "EarlyStopping counter: 1 out of 9\n",
            "EarlyStopping counter: 2 out of 9\n",
            "[75/1000] Training loss: 0.1201\t Validation loss: 0.2150.\n",
            "EarlyStopping counter: 3 out of 9\n",
            "EarlyStopping counter: 1 out of 9\n",
            "EarlyStopping counter: 2 out of 9\n",
            "EarlyStopping counter: 3 out of 9\n",
            "[80/1000] Training loss: 0.1201\t Validation loss: 0.2523.\n",
            "EarlyStopping counter: 1 out of 9\n",
            "EarlyStopping counter: 1 out of 9\n",
            "EarlyStopping counter: 2 out of 9\n",
            "[85/1000] Training loss: 0.1078\t Validation loss: 0.2631.\n",
            "EarlyStopping counter: 3 out of 9\n",
            "EarlyStopping counter: 4 out of 9\n",
            "EarlyStopping counter: 1 out of 9\n",
            "EarlyStopping counter: 2 out of 9\n",
            "[90/1000] Training loss: 0.0980\t Validation loss: 0.2441.\n",
            "EarlyStopping counter: 1 out of 9\n",
            "EarlyStopping counter: 2 out of 9\n",
            "EarlyStopping counter: 1 out of 9\n",
            "[95/1000] Training loss: 0.0795\t Validation loss: 0.2438.\n",
            "EarlyStopping counter: 2 out of 9\n",
            "EarlyStopping counter: 3 out of 9\n",
            "EarlyStopping counter: 4 out of 9\n",
            "EarlyStopping counter: 1 out of 9\n",
            "[100/1000] Training loss: 0.0782\t Validation loss: 0.2157.\n",
            "EarlyStopping counter: 2 out of 9\n",
            "EarlyStopping counter: 3 out of 9\n",
            "EarlyStopping counter: 4 out of 9\n",
            "EarlyStopping counter: 5 out of 9\n",
            "EarlyStopping counter: 6 out of 9\n",
            "[105/1000] Training loss: 0.0824\t Validation loss: 0.2038.\n",
            "EarlyStopping counter: 1 out of 9\n",
            "EarlyStopping counter: 1 out of 9\n",
            "EarlyStopping counter: 2 out of 9\n",
            "[110/1000] Training loss: 0.0639\t Validation loss: 0.2444.\n",
            "EarlyStopping counter: 3 out of 9\n",
            "EarlyStopping counter: 4 out of 9\n",
            "EarlyStopping counter: 5 out of 9\n",
            "EarlyStopping counter: 1 out of 9\n",
            "[115/1000] Training loss: 0.0764\t Validation loss: 0.2567.\n",
            "EarlyStopping counter: 2 out of 9\n",
            "EarlyStopping counter: 3 out of 9\n",
            "EarlyStopping counter: 4 out of 9\n",
            "EarlyStopping counter: 5 out of 9\n",
            "EarlyStopping counter: 6 out of 9\n",
            "[120/1000] Training loss: 0.0567\t Validation loss: 0.1886.\n",
            "EarlyStopping counter: 1 out of 9\n",
            "EarlyStopping counter: 2 out of 9\n",
            "EarlyStopping counter: 3 out of 9\n",
            "EarlyStopping counter: 4 out of 9\n",
            "[125/1000] Training loss: 0.0539\t Validation loss: 0.1725.\n",
            "EarlyStopping counter: 5 out of 9\n",
            "EarlyStopping counter: 6 out of 9\n",
            "EarlyStopping counter: 7 out of 9\n",
            "EarlyStopping counter: 8 out of 9\n",
            "EarlyStopping counter: 9 out of 9\n",
            "Early stop. Going back to the last checkpoint.\n",
            "Loading model from checkpoint...\n",
            "Checkpoint loaded.\n",
            "training finished.\n"
          ]
        },
        {
          "data": {
            "image/png": "[encoded data removed]",
            "text/plain": [
              "<Figure size 1000x800 with 1 Axes>"
            ]
          },
          "metadata": {},
          "output_type": "display_data"
        }
      ],
      "source": [
        "model = train(model, train_dataloader, val_dataloader, optimizer, epochs=1000, device=\"cuda\", patience = 9, temp=5)"
      ]
    },
    {
      "cell_type": "code",
      "execution_count": 32,
      "metadata": {
        "colab": {
          "base_uri": "https://localhost:8080/"
        },
        "id": "BcyGkTsPJcyX",
        "outputId": "2829857d-1207-4151-870c-379d8464a8fc"
      },
      "outputs": [
        {
          "name": "stdout",
          "output_type": "stream",
          "text": [
            "              precision    recall  f1-score   support\n",
            "\n",
            "           0       0.75      1.00      0.86        15\n",
            "           1       0.86      0.80      0.83        15\n",
            "           2       0.86      0.80      0.83        15\n",
            "           3       0.92      0.73      0.81        15\n",
            "           4       0.93      0.93      0.93        15\n",
            "\n",
            "    accuracy                           0.85        75\n",
            "   macro avg       0.86      0.85      0.85        75\n",
            "weighted avg       0.86      0.85      0.85        75\n",
            "\n"
          ]
        }
      ],
      "source": [
        "preds, true_values, accuracy = predict(model, test_dataloader, n_features=128, loss_function=loss_function, device=device)\n",
        "print(classification_report(true_values, preds))"
      ]
    },
    {
      "cell_type": "code",
      "execution_count": 36,
      "metadata": {
        "colab": {
          "base_uri": "https://localhost:8080/",
          "height": 469
        },
        "id": "9RHF4LqP3hkX",
        "outputId": "f3411345-4f78-46e1-f44b-0eea0297d6a9"
      },
      "outputs": [
        {
          "data": {
            "image/png": "[encoded data removed]",
            "text/plain": [
              "<Figure size 1200x500 with 2 Axes>"
            ]
          },
          "metadata": {},
          "output_type": "display_data"
        }
      ],
      "source": [
        "classlist = list(codes.keys())\n",
        "\n",
        "# Plotting confusion matrices for small and big data\n",
        "fig, ax = plt.subplots(nrows=1, ncols=1, figsize=(12, 5))  # Set up the figure\n",
        "ax = ax\n",
        "\n",
        "y_ = [true_values]\n",
        "preds_lst = [preds]\n",
        "titles = ['Test Data (mel 128 features)']\n",
        "for i in range(1):\n",
        "    actual = y_[i]\n",
        "    predicted =preds_lst[i]  # get the prediction for each model (each loop)\n",
        "\n",
        "    confusion_matrix = metrics.confusion_matrix(np.array(actual), np.array(predicted))\n",
        "    cm_display = metrics.ConfusionMatrixDisplay(confusion_matrix=confusion_matrix)\n",
        "    cm_display.plot(ax=ax)\n",
        "    ax.set_xticklabels(classlist, rotation=45)\n",
        "    ax.set_yticklabels(classlist)\n",
        "    ax.set_title(titles[i])\n",
        "\n",
        "fig.suptitle('CNN model prediction on test data')\n",
        "plt.show()"
      ]
    }
  ],
  "metadata": {
    "accelerator": "GPU",
    "colab": {
      "gpuType": "T4",
      "include_colab_link": true,
      "machine_shape": "hm",
      "provenance": []
    },
    "kernelspec": {
      "display_name": "Python 3",
      "name": "python3"
    },
    "language_info": {
      "codemirror_mode": {
        "name": "ipython",
        "version": 3
      },
      "file_extension": ".py",
      "mimetype": "text/x-python",
      "name": "python",
      "nbconvert_exporter": "python",
      "pygments_lexer": "ipython3",
      "version": "3.9.17"
    },
    "orig_nbformat": 4
  },
  "nbformat": 4,
  "nbformat_minor": 0
}
