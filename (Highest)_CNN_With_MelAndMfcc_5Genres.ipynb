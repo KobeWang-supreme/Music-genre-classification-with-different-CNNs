{
  "cells": [
    {
      "cell_type": "markdown",
      "metadata": {
        "id": "view-in-github",
        "colab_type": "text"
      },
      "source": [
        "<a href=\"https://colab.research.google.com/github/KobeWang-supreme/Music-genre-classification-with-different-CNNs/blob/main/(Highest)_CNN_With_MelAndMfcc_5Genres.ipynb\" target=\"_parent\"><img src=\"https://colab.research.google.com/assets/colab-badge.svg\" alt=\"Open In Colab\"/></a>"
      ]
    },
    {
      "cell_type": "markdown",
      "metadata": {
        "id": "I3OT7VGDJcyR"
      },
      "source": [
        "We are using the dataset called \"GTZAN\", which is widely used in Music Genre Classification.\n",
        "Our goal is to use audios' mfccs to make the classification. This data_deal.ipynb will show how mfccs are generated."
      ]
    },
    {
      "cell_type": "code",
      "source": [
        "from google.colab import drive\n",
        "drive.mount('/content/drive')"
      ],
      "metadata": {
        "colab": {
          "base_uri": "https://localhost:8080/"
        },
        "id": "IOZoCer3Jey0",
        "outputId": "fd9c68d5-04f2-4387-ac59-7d521610e476"
      },
      "execution_count": 1,
      "outputs": [
        {
          "output_type": "stream",
          "name": "stdout",
          "text": [
            "Mounted at /content/drive\n"
          ]
        }
      ]
    },
    {
      "cell_type": "code",
      "execution_count": 2,
      "metadata": {
        "id": "SfAnIcTlJcyT"
      },
      "outputs": [],
      "source": [
        "import numpy as np\n",
        "import pandas as pd\n",
        "import librosa\n",
        "import os\n",
        "import tqdm\n",
        "import matplotlib.pyplot as plt\n",
        "import random\n",
        "import librosa.display\n",
        "from mpl_toolkits.axes_grid1 import make_axes_locatable\n",
        "import torch\n",
        "import torchvision\n",
        "from torchvision import transforms\n",
        "from torchvision.datasets import ImageFolder\n",
        "from torch.utils.data.dataloader import DataLoader\n",
        "from torch.utils.data import random_split\n",
        "from torchvision.utils import make_grid\n",
        "import torch.nn as nn\n",
        "import torch.nn.functional as F\n",
        "from sklearn.model_selection import train_test_split\n",
        "from torch.utils.data import Dataset, TensorDataset\n",
        "from sklearn.metrics import classification_report\n",
        "from sklearn import metrics"
      ]
    },
    {
      "cell_type": "markdown",
      "metadata": {
        "id": "id7_WagaJcyU"
      },
      "source": [
        "First we should read the data."
      ]
    },
    {
      "cell_type": "code",
      "execution_count": 259,
      "metadata": {
        "id": "CDN1YRsfJcyU"
      },
      "outputs": [],
      "source": [
        "def data_read(directory=\"/content/drive/MyDrive/archive/Data/genres_original\"): # change the directory if you like\n",
        "    data = [] # Store all data (read from music)\n",
        "    labels = [] # Store corresponding labels\n",
        "    srs = []\n",
        "\n",
        "    x = 0\n",
        "\n",
        "    for dirname, _, filenames in os.walk(\"/content/drive/MyDrive/archive/Data/genres_original\"):\n",
        "        for filename in filenames:\n",
        "            # Get name and skip the broken\n",
        "            if x == 554:  # skip the broken one\n",
        "                x += 1\n",
        "                continue\n",
        "\n",
        "            filename = os.path.join(dirname, filename)\n",
        "\n",
        "            y, sr = librosa.load(filename)\n",
        "            #print(filename)\n",
        "            label = filename.split('/')[7]\n",
        "            #print(label)\n",
        "\n",
        "            if label == 'hiphop' or label == 'pop' or label == 'rock' or label == 'blues' or label == 'reggae':\n",
        "              x += 1\n",
        "              continue\n",
        "\n",
        "            # Append them to the final data\n",
        "            data.append(y)\n",
        "            labels.append(label)\n",
        "            srs.append(sr)\n",
        "            x += 1\n",
        "            #print(x)  # counting\n",
        "    #print(len(data))\n",
        "\n",
        "    return data, labels, srs"
      ]
    },
    {
      "cell_type": "code",
      "execution_count": 260,
      "metadata": {
        "id": "7h0G2NNzJcyU"
      },
      "outputs": [],
      "source": [
        "data, labels, srs = data_read()"
      ]
    },
    {
      "cell_type": "markdown",
      "metadata": {
        "id": "JmDvZ07AJcyU"
      },
      "source": [
        "Get one random sample to show whether we read the data successfully."
      ]
    },
    {
      "cell_type": "code",
      "execution_count": 261,
      "metadata": {
        "colab": {
          "base_uri": "https://localhost:8080/",
          "height": 472
        },
        "id": "V96rzIcGJcyU",
        "outputId": "636131f9-1b04-403e-8d5b-a1a0cc9a2bd1"
      },
      "outputs": [
        {
          "output_type": "display_data",
          "data": {
            "text/plain": [
              "<Figure size 640x480 with 1 Axes>"
            ],
            "image/png": "[encoded data removed]"
          },
          "metadata": {}
        }
      ],
      "source": [
        "def check():\n",
        "    fig, axi = plt.subplots(1,1) # initialize\n",
        "    ind = random.randint(0, len(labels)-1) # randomly choose one index\n",
        "    times = [sample/srs[ind] for sample in range(len(data[ind]))] # get time axis\n",
        "    axi.plot(times, data[ind])\n",
        "    axi.set_ylabel('Normalized Amplitude')\n",
        "    axi.set_xlabel('Time /s')\n",
        "    axi.set(title = \"one example from \" + labels[ind].capitalize())\n",
        "\n",
        "    plt.show()\n",
        "\n",
        "check()"
      ]
    },
    {
      "cell_type": "markdown",
      "metadata": {
        "id": "a9MtHgXsJcyV"
      },
      "source": [
        "Then we need to extract mfccs features from \"data\""
      ]
    },
    {
      "cell_type": "code",
      "execution_count": 262,
      "metadata": {
        "id": "HhxjRlSdJcyV"
      },
      "outputs": [],
      "source": [
        "def get_mels(data, srs):\n",
        "    '''\n",
        "        input: data : array like data structure\n",
        "               src : sampling rates\n",
        "               num_mel: how many mel features you want\n",
        "\n",
        "        return: mels\n",
        "    '''\n",
        "    mels = []\n",
        "    for i in range(len(data)):\n",
        "        mel = librosa.feature.melspectrogram(y=data[i], sr=srs[i], n_mels= 128, fmax=8000).T\n",
        "        #print(np.shape(mel))\n",
        "        mels.append(mel)\n",
        "\n",
        "\n",
        "    return mels # contains every music's mel"
      ]
    },
    {
      "cell_type": "code",
      "execution_count": 263,
      "metadata": {
        "id": "8J6VMetgJcyV"
      },
      "outputs": [],
      "source": [
        "mels = get_mels(data, srs)"
      ]
    },
    {
      "cell_type": "code",
      "source": [
        "def get_mfcc(data, srs, n_mfcc):\n",
        "    '''Gets mfccs given a array like data structure and its sampling rates\n",
        "    '''\n",
        "    mfccs = []\n",
        "    for i in range(len(data)):\n",
        "        mfcc = librosa.feature.mfcc(y=data[i], sr=srs[i], n_mfcc=n_mfcc).T\n",
        "        mfccs.append(mfcc)\n",
        "\n",
        "    return mfccs"
      ],
      "metadata": {
        "id": "QfQQt3v3rTmt"
      },
      "execution_count": 264,
      "outputs": []
    },
    {
      "cell_type": "code",
      "source": [
        "mfccs = get_mfcc(data, srs, n_mfcc=128)\n",
        "max_length1 = len(max(mfccs, key=len))\n",
        "def pad_mfcc(mfccs, max_length):\n",
        "    'pads'\n",
        "    mfccs_padded = []\n",
        "    for mfcc in mfccs:\n",
        "        mfcc_padded = np.pad(mfcc, pad_width=[(0,max_length-mfcc[:,0].shape[0]),(0,0)])\n",
        "        mfccs_padded.append(mfcc_padded)\n",
        "    return mfccs_padded\n"
      ],
      "metadata": {
        "id": "Ic8Njmd6rWSU"
      },
      "execution_count": 265,
      "outputs": []
    },
    {
      "cell_type": "code",
      "source": [
        "mfccs_padded = pad_mfcc(mfccs, max_length1)\n",
        "print(np.shape(mfccs_padded[0]))"
      ],
      "metadata": {
        "colab": {
          "base_uri": "https://localhost:8080/"
        },
        "id": "IQWXb0KHrore",
        "outputId": "35044b6d-2c6c-4bd8-855d-c123f273a031"
      },
      "execution_count": 266,
      "outputs": [
        {
          "output_type": "stream",
          "name": "stdout",
          "text": [
            "(1314, 128)\n"
          ]
        }
      ]
    },
    {
      "cell_type": "markdown",
      "metadata": {
        "id": "9RWPaVHvJcyV"
      },
      "source": [
        "Then we need to pad mfccs to make them have the same length"
      ]
    },
    {
      "cell_type": "code",
      "execution_count": 267,
      "metadata": {
        "id": "eQ0JrEnMJcyV"
      },
      "outputs": [],
      "source": [
        "max_length = len(max(mels, key=len)) # get the max length\n",
        "def pad_mel(mels, max_length):\n",
        "    'pads'\n",
        "    mels_padded = []\n",
        "    for mel in mels:\n",
        "        mel_padded = np.pad(mel, pad_width=[(0,max_length-mel[:,0].shape[0]),(0,0)])\n",
        "        mels_padded.append(mel_padded)\n",
        "    return mels_padded"
      ]
    },
    {
      "cell_type": "code",
      "execution_count": 268,
      "metadata": {
        "id": "KC_-GVD7JcyV"
      },
      "outputs": [],
      "source": [
        "mels_padded = pad_mel(mels, max_length)"
      ]
    },
    {
      "cell_type": "code",
      "source": [
        "print(np.shape(mels_padded))\n"
      ],
      "metadata": {
        "colab": {
          "base_uri": "https://localhost:8080/"
        },
        "id": "7PMeeoCHZEUZ",
        "outputId": "aa02355d-e305-433a-efa0-8cc5b1e81680"
      },
      "execution_count": 269,
      "outputs": [
        {
          "output_type": "stream",
          "name": "stdout",
          "text": [
            "(499, 1314, 128)\n"
          ]
        }
      ]
    },
    {
      "cell_type": "code",
      "source": [
        "mels_padded = np.add(mels_padded, mfccs_padded)\n",
        "print(np.shape(mels_padded))\n"
      ],
      "metadata": {
        "colab": {
          "base_uri": "https://localhost:8080/"
        },
        "id": "3NYdz80csyBc",
        "outputId": "32a76bce-1756-4ade-8dc0-0d4f31febbb6"
      },
      "execution_count": 270,
      "outputs": [
        {
          "output_type": "stream",
          "name": "stdout",
          "text": [
            "(499, 1314, 128)\n"
          ]
        }
      ]
    },
    {
      "cell_type": "code",
      "source": [],
      "metadata": {
        "id": "ANVPKqLwuoP7"
      },
      "execution_count": 16,
      "outputs": []
    },
    {
      "cell_type": "markdown",
      "metadata": {
        "id": "OypB7gjqJcyV"
      },
      "source": [
        "Next, we put the mfccs_padded into dataloader"
      ]
    },
    {
      "cell_type": "code",
      "execution_count": 271,
      "metadata": {
        "id": "kuIuTdsmJcyV",
        "outputId": "6f0bb9ba-52b0-41d4-93a0-79b9d66e92ba",
        "colab": {
          "base_uri": "https://localhost:8080/"
        }
      },
      "outputs": [
        {
          "output_type": "stream",
          "name": "stdout",
          "text": [
            "      labels\n",
            "0      metal\n",
            "1      metal\n",
            "2      metal\n",
            "3      metal\n",
            "4      metal\n",
            "..       ...\n",
            "494  country\n",
            "495  country\n",
            "496  country\n",
            "497  country\n",
            "498  country\n",
            "\n",
            "[499 rows x 1 columns]\n",
            "     labels\n",
            "0         4\n",
            "1         4\n",
            "2         4\n",
            "3         4\n",
            "4         4\n",
            "..      ...\n",
            "494       1\n",
            "495       1\n",
            "496       1\n",
            "497       1\n",
            "498       1\n",
            "\n",
            "[499 rows x 1 columns]\n",
            "[4 4 4 4 4 4 4 4 4 4 4 4 4 4 4 4 4 4 4 4 4 4 4 4 4 4 4 4 4 4 4 4 4 4 4 4 4\n",
            " 4 4 4 4 4 4 4 4 4 4 4 4 4 4 4 4 4 4 4 4 4 4 4 4 4 4 4 4 4 4 4 4 4 4 4 4 4\n",
            " 4 4 4 4 4 4 4 4 4 4 4 4 4 4 4 4 4 4 4 4 4 4 4 4 4 4 3 3 3 3 3 3 3 3 3 3 3\n",
            " 3 3 3 3 3 3 3 3 3 3 3 3 3 3 3 3 3 3 3 3 3 3 3 3 3 3 3 3 3 3 3 3 3 3 3 3 3\n",
            " 3 3 3 3 3 3 3 3 3 3 3 3 3 3 3 3 3 3 3 3 3 3 3 3 3 3 3 3 3 3 3 3 3 3 3 3 3\n",
            " 3 3 3 3 3 3 3 3 3 3 3 3 3 3 2 2 2 2 2 2 2 2 2 2 2 2 2 2 2 2 2 2 2 2 2 2 2\n",
            " 2 2 2 2 2 2 2 2 2 2 2 2 2 2 2 2 2 2 2 2 2 2 2 2 2 2 2 2 2 2 2 2 2 2 2 2 2\n",
            " 2 2 2 2 2 2 2 2 2 2 2 2 2 2 2 2 2 2 2 2 2 2 2 2 2 2 2 2 2 2 2 2 2 2 2 2 2\n",
            " 2 2 2 0 0 0 0 0 0 0 0 0 0 0 0 0 0 0 0 0 0 0 0 0 0 0 0 0 0 0 0 0 0 0 0 0 0\n",
            " 0 0 0 0 0 0 0 0 0 0 0 0 0 0 0 0 0 0 0 0 0 0 0 0 0 0 0 0 0 0 0 0 0 0 0 0 0\n",
            " 0 0 0 0 0 0 0 0 0 0 0 0 0 0 0 0 0 0 0 0 0 0 0 0 0 0 0 0 0 1 1 1 1 1 1 1 1\n",
            " 1 1 1 1 1 1 1 1 1 1 1 1 1 1 1 1 1 1 1 1 1 1 1 1 1 1 1 1 1 1 1 1 1 1 1 1 1\n",
            " 1 1 1 1 1 1 1 1 1 1 1 1 1 1 1 1 1 1 1 1 1 1 1 1 1 1 1 1 1 1 1 1 1 1 1 1 1\n",
            " 1 1 1 1 1 1 1 1 1 1 1 1 1 1 1 1 1 1]\n"
          ]
        }
      ],
      "source": [
        "# convert data to numpy array\n",
        "X = np.asarray(mels_padded)\n",
        "# Mapping labels\n",
        "codes = {\n",
        "    #'blues':0,\n",
        "    'classical':0,\n",
        "    'country':1,  #\n",
        "    'disco':2,\n",
        "    #'hiphop':4,\n",
        "    'jazz':3,\n",
        "    'metal':4,\n",
        "    #'pop':5,\n",
        "    #'reggae':4\n",
        "    #'rock':9  #\n",
        "}\n",
        "\n",
        "df_map = pd.DataFrame (labels, columns = ['labels'])\n",
        "print(df_map)\n",
        "df_map['labels'] = df_map['labels'].map(codes)\n",
        "print(df_map)\n",
        "y = df_map['labels'].to_numpy()\n",
        "print(y)"
      ]
    },
    {
      "cell_type": "code",
      "source": [
        "print(X)"
      ],
      "metadata": {
        "colab": {
          "base_uri": "https://localhost:8080/"
        },
        "id": "xDVvWRIhtQD9",
        "outputId": "ff81dbd0-7349-4121-a5fc-f89fc7dd46fa"
      },
      "execution_count": 272,
      "outputs": [
        {
          "output_type": "stream",
          "name": "stdout",
          "text": [
            "[[[-1.27294861e+02  4.39496651e+01  1.76518643e+00 ... -2.43103981e+00\n",
            "   -2.38094524e-01  2.19939685e+00]\n",
            "  [-1.06621010e+02  3.76000404e+01  3.94287491e+00 ... -2.61682892e+00\n",
            "   -4.41287488e-01  1.30827320e+00]\n",
            "  [-1.03032524e+02  3.31476936e+01  2.36790347e+00 ...  1.54346824e-01\n",
            "   -8.05834234e-01  4.86966640e-01]\n",
            "  ...\n",
            "  [ 0.00000000e+00  0.00000000e+00  0.00000000e+00 ...  0.00000000e+00\n",
            "    0.00000000e+00  0.00000000e+00]\n",
            "  [ 0.00000000e+00  0.00000000e+00  0.00000000e+00 ...  0.00000000e+00\n",
            "    0.00000000e+00  0.00000000e+00]\n",
            "  [ 0.00000000e+00  0.00000000e+00  0.00000000e+00 ...  0.00000000e+00\n",
            "    0.00000000e+00  0.00000000e+00]]\n",
            "\n",
            " [[-4.40651474e+01  4.64830971e+01  1.02380095e+01 ...  2.90590465e-01\n",
            "    2.23524332e+00  3.68576616e-01]\n",
            "  [-2.36687183e+01  4.95052528e+01  8.84230709e+00 ...  1.58882618e-01\n",
            "    1.18759692e+00  4.81371224e-01]\n",
            "  [-4.03183556e+01  3.56275597e+01  5.28381586e-01 ... -1.08991928e-01\n",
            "   -3.58874798e-02 -1.79958045e-01]\n",
            "  ...\n",
            "  [ 0.00000000e+00  0.00000000e+00  0.00000000e+00 ...  0.00000000e+00\n",
            "    0.00000000e+00  0.00000000e+00]\n",
            "  [ 0.00000000e+00  0.00000000e+00  0.00000000e+00 ...  0.00000000e+00\n",
            "    0.00000000e+00  0.00000000e+00]\n",
            "  [ 0.00000000e+00  0.00000000e+00  0.00000000e+00 ...  0.00000000e+00\n",
            "    0.00000000e+00  0.00000000e+00]]\n",
            "\n",
            " [[-3.96965408e+01  2.19888962e+02  3.01574219e+02 ... -1.45815527e+00\n",
            "   -6.61850810e-01  2.09978771e+00]\n",
            "  [-2.30616512e+01  1.98646469e+02  5.03760010e+02 ... -9.16898251e-02\n",
            "    2.42945576e+00  2.66988802e+00]\n",
            "  [-2.35260143e+01  1.89997253e+02  4.96538635e+02 ...  7.59804666e-01\n",
            "    2.01497650e+00  2.36246014e+00]\n",
            "  ...\n",
            "  [ 0.00000000e+00  0.00000000e+00  0.00000000e+00 ...  0.00000000e+00\n",
            "    0.00000000e+00  0.00000000e+00]\n",
            "  [ 0.00000000e+00  0.00000000e+00  0.00000000e+00 ...  0.00000000e+00\n",
            "    0.00000000e+00  0.00000000e+00]\n",
            "  [ 0.00000000e+00  0.00000000e+00  0.00000000e+00 ...  0.00000000e+00\n",
            "    0.00000000e+00  0.00000000e+00]]\n",
            "\n",
            " ...\n",
            "\n",
            " [[-7.48881989e+01  2.10974136e+02  8.84865875e+01 ... -6.75352335e-01\n",
            "   -1.31550062e+00 -4.62572694e-01]\n",
            "  [-4.50385513e+01  2.55551544e+02  1.59258728e+02 ... -1.63297868e+00\n",
            "   -2.25409865e+00  1.09858847e+00]\n",
            "  [-4.33313713e+01  2.17866882e+02  1.09714516e+02 ... -1.68551636e+00\n",
            "   -2.04002190e+00  2.26658058e+00]\n",
            "  ...\n",
            "  [ 0.00000000e+00  0.00000000e+00  0.00000000e+00 ...  0.00000000e+00\n",
            "    0.00000000e+00  0.00000000e+00]\n",
            "  [ 0.00000000e+00  0.00000000e+00  0.00000000e+00 ...  0.00000000e+00\n",
            "    0.00000000e+00  0.00000000e+00]\n",
            "  [ 0.00000000e+00  0.00000000e+00  0.00000000e+00 ...  0.00000000e+00\n",
            "    0.00000000e+00  0.00000000e+00]]\n",
            "\n",
            " [[-1.06534973e+02  1.72170151e+02 -2.81188221e+01 ...  9.98860776e-01\n",
            "   -4.54923439e+00  2.93091059e+00]\n",
            "  [-1.07484932e+02  1.54589172e+02 -3.53824615e+00 ... -8.66194904e-01\n",
            "   -6.32308006e+00  3.90229535e+00]\n",
            "  [-1.27812782e+02  1.41050446e+02 -5.48484802e+00 ... -1.74501288e+00\n",
            "   -3.41316867e+00  4.52777004e+00]\n",
            "  ...\n",
            "  [ 0.00000000e+00  0.00000000e+00  0.00000000e+00 ...  0.00000000e+00\n",
            "    0.00000000e+00  0.00000000e+00]\n",
            "  [ 0.00000000e+00  0.00000000e+00  0.00000000e+00 ...  0.00000000e+00\n",
            "    0.00000000e+00  0.00000000e+00]\n",
            "  [ 0.00000000e+00  0.00000000e+00  0.00000000e+00 ...  0.00000000e+00\n",
            "    0.00000000e+00  0.00000000e+00]]\n",
            "\n",
            " [[-5.07778587e+01  1.02956535e+02  3.00680008e+01 ...  1.05111852e-01\n",
            "   -7.73507059e-02 -2.82570815e+00]\n",
            "  [-3.18541241e+01  1.71942505e+02  5.42653313e+01 ...  2.26502299e+00\n",
            "    3.39527786e-01 -4.48123074e+00]\n",
            "  [-3.72248459e+01  1.76790848e+02  4.14597855e+01 ...  2.70878506e+00\n",
            "    1.02415681e+00 -4.41193390e+00]\n",
            "  ...\n",
            "  [ 0.00000000e+00  0.00000000e+00  0.00000000e+00 ...  0.00000000e+00\n",
            "    0.00000000e+00  0.00000000e+00]\n",
            "  [ 0.00000000e+00  0.00000000e+00  0.00000000e+00 ...  0.00000000e+00\n",
            "    0.00000000e+00  0.00000000e+00]\n",
            "  [ 0.00000000e+00  0.00000000e+00  0.00000000e+00 ...  0.00000000e+00\n",
            "    0.00000000e+00  0.00000000e+00]]]\n"
          ]
        }
      ]
    },
    {
      "cell_type": "code",
      "execution_count": 273,
      "metadata": {
        "id": "BlzEHGEeJcyV"
      },
      "outputs": [],
      "source": [
        "# To split train_data, valid_data and test_data\n",
        "def train_val_test_split(x, y, test_size, val_size, random_state=None, stratify=None):\n",
        "    x_t, x_test, y_t, y_test = train_test_split(x, y, test_size=test_size, random_state=random_state, stratify=stratify)\n",
        "    if stratify is not None:\n",
        "        stratify = y_t\n",
        "    x_train, x_val, y_train, y_val = train_test_split(x_t, y_t, test_size=val_size, random_state=random_state, stratify=stratify)\n",
        "\n",
        "    return x_train, y_train, x_val, y_val, x_test, y_test\n",
        "\n",
        "def to_Dataloader(x_train, y_train, x_val, y_val, x_test, y_test, batch_size, test_batch=1,shuffle=True):\n",
        "\n",
        "    train_dataset = TensorDataset(torch.Tensor(x_train),torch.Tensor(y_train).type(torch.LongTensor)) # create train_dataset\n",
        "    val_dataset = TensorDataset(torch.Tensor(x_val),torch.Tensor(y_val).type(torch.LongTensor)) # create val_dataset\n",
        "    test_dataset = TensorDataset(torch.Tensor(x_test),torch.Tensor(y_test).type(torch.LongTensor)) # create test_dataset\n",
        "\n",
        "    train_dataloader = DataLoader(train_dataset, batch_size=batch_size, shuffle=shuffle) # create your train_dataloader\n",
        "    val_dataloader = DataLoader(val_dataset, batch_size=batch_size, shuffle=shuffle) # create your val_dataloader\n",
        "    test_dataloader = DataLoader(test_dataset, batch_size=test_batch, shuffle=shuffle) # create your test_dataloader\n",
        "\n",
        "    return train_dataloader, val_dataloader, test_dataloader"
      ]
    },
    {
      "cell_type": "code",
      "execution_count": 290,
      "metadata": {
        "colab": {
          "base_uri": "https://localhost:8080/"
        },
        "id": "tOXMNxExJcyW",
        "outputId": "5d1852f5-d041-4796-b7aa-c19f9e6982e4"
      },
      "outputs": [
        {
          "output_type": "stream",
          "name": "stdout",
          "text": [
            "finished\n"
          ]
        }
      ],
      "source": [
        "x_train, y_train, x_val, y_val, x_test, y_test = train_val_test_split(X, y, test_size=0.15, val_size=0.15, random_state=42, stratify=y)\n",
        "\n",
        "train_dataloader, val_dataloader, test_dataloader = to_Dataloader(x_train, y_train, x_val, y_val, x_test, y_test, batch_size=64, test_batch=1,shuffle=True)\n",
        "\n",
        "print('finished')"
      ]
    },
    {
      "cell_type": "markdown",
      "metadata": {
        "id": "TVOsFyMOJcyW"
      },
      "source": [
        "We then define a class called \"early stop \"\n",
        "It is from : \"https://github.com/Bjarten/early-stopping-pytorch/blob/master/pytorchtools.py\""
      ]
    },
    {
      "cell_type": "code",
      "execution_count": 275,
      "metadata": {
        "id": "2wPrtEQaJcyW"
      },
      "outputs": [],
      "source": [
        "class EarlyStopping:\n",
        "    \"\"\"Early stops the training if validation loss doesn't improve after a given patience.\"\"\"\n",
        "    def __init__(self, patience=7, verbose=False, delta=0, path='checkpoint.pt', trace_func=print):\n",
        "        \"\"\"\n",
        "        Args:\n",
        "            patience (int): How long to wait after last time validation loss improved.\n",
        "                            Default: 7\n",
        "            verbose (bool): If True, prints a message for each validation loss improvement.\n",
        "                            Default: False\n",
        "            delta (float): Minimum change in the monitored quantity to qualify as an improvement.\n",
        "                            Default: 0\n",
        "            path (str): Path for the checkpoint to be saved to.\n",
        "                            Default: 'checkpoint.pt'\n",
        "            trace_func (function): trace print function.\n",
        "                            Default: print\n",
        "        \"\"\"\n",
        "        self.patience = patience\n",
        "        self.verbose = verbose\n",
        "        self.counter = 0\n",
        "        self.best_score = None\n",
        "        self.early_stop = False\n",
        "        self.val_loss_min = np.Inf\n",
        "        self.delta = delta\n",
        "        self.path = path\n",
        "        self.trace_func = trace_func\n",
        "    def __call__(self, val_loss, model):\n",
        "\n",
        "        score = -val_loss\n",
        "\n",
        "        if self.best_score is None:\n",
        "            self.best_score = score\n",
        "            self.save_checkpoint(val_loss, model)\n",
        "        elif score < self.best_score + self.delta:\n",
        "            self.counter += 1\n",
        "            self.trace_func(f'EarlyStopping counter: {self.counter} out of {self.patience}')\n",
        "            if self.counter >= self.patience:\n",
        "                self.early_stop = True\n",
        "        else:\n",
        "            self.best_score = score\n",
        "            self.save_checkpoint(val_loss, model)\n",
        "            self.counter = 0\n",
        "\n",
        "    def save_checkpoint(self, val_loss, model):\n",
        "        '''Saves model when validation loss decrease.'''\n",
        "        if self.verbose:\n",
        "            self.trace_func(f'Validation loss decreased ({self.val_loss_min:.6f} --> {val_loss:.6f}).  Saving model ...')\n",
        "        torch.save(model.state_dict(), self.path)\n",
        "        self.val_loss_min = val_loss"
      ]
    },
    {
      "cell_type": "markdown",
      "metadata": {
        "id": "2wDOdJLwJcyW"
      },
      "source": [
        "After doing all things above, it is time to build our model to train this dataset!"
      ]
    },
    {
      "cell_type": "code",
      "execution_count": 276,
      "metadata": {
        "id": "A62PNdvTJcyW"
      },
      "outputs": [],
      "source": [
        "# Then we wanna define a resnet\n",
        "class MelSpecClassifier (nn.Module):\n",
        "    # ----------------------------\n",
        "    # Build the model architecture\n",
        "    # ----------------------------\n",
        "    def __init__(self):\n",
        "        super().__init__()\n",
        "        conv_layers = []\n",
        "\n",
        "        # First Convolution Block\n",
        "        self.b1 = nn.Sequential(nn.Conv2d(1, 64, kernel_size=7, stride=2, padding=1),\n",
        "                   nn.PReLU(),\n",
        "                   nn.MaxPool2d(kernel_size=3, stride=2, padding=1),\n",
        "                   nn.BatchNorm2d(64)\n",
        "                   )\n",
        "\n",
        "\n",
        "\n",
        "        conv_layers += [self.b1]\n",
        "\n",
        "        # Second Convolution Block\n",
        "        self.conv2 = nn.Conv2d(64, 256, kernel_size=5, stride=2, padding=1)\n",
        "        self.relu2 = nn.PReLU()\n",
        "        self.bn2 = nn.BatchNorm2d(256)\n",
        "        conv_layers += [self.conv2, self.relu2, self.bn2]\n",
        "\n",
        "        # Third Convolution Block\n",
        "        self.conv3 = nn.Conv2d(256, 512, kernel_size=3, stride=2, padding=1)\n",
        "        self.relu3 = nn.PReLU()\n",
        "        self.bn3 = nn.BatchNorm2d(512)\n",
        "        conv_layers += [self.conv3, self.relu3, self.bn3,]\n",
        "\n",
        "\n",
        "        # 5th Convolution Block\n",
        "        self.conv4 = nn.Conv2d(512, 256, kernel_size=3, stride=2, padding=1)\n",
        "        self.relu4 = nn.PReLU()\n",
        "        self.bn4 = nn.BatchNorm2d(256)\n",
        "        conv_layers += [self.conv4, self.relu4, self.bn4]\n",
        "\n",
        "        # 6th Convolution Block\n",
        "        self.conv5 = nn.Conv2d(256, 128, kernel_size=3, stride=2, padding=1)\n",
        "        self.relu5 = nn.PReLU()\n",
        "        self.bn5 = nn.BatchNorm2d(128)\n",
        "        conv_layers += [self.conv5, self.relu5, self.bn5]\n",
        "\n",
        "\n",
        "        # Dropout Layer\n",
        "        self.drp = nn.Dropout2d(p = 0.4)\n",
        "\n",
        "        # Linear Classifier\n",
        "        self.ap = nn.AdaptiveAvgPool2d(output_size=1)\n",
        "        self.fc = nn.Linear(in_features=128, out_features=64)\n",
        "\n",
        "        # Wrap the Convolutional Blocks\n",
        "        self.fitter = nn.Sequential(*conv_layers, self.drp, self.ap, nn.Flatten(), self.fc, nn.Linear(in_features=64, out_features=5))\n",
        "\n",
        "        self.initialize_weights()\n",
        "\n",
        "\n",
        "    def forward(self, x):\n",
        "\n",
        "        x = x.transpose(1,2)\n",
        "        x.unsqueeze_(1)\n",
        "        out = self.fitter(x)\n",
        "        return out\n",
        "\n",
        "\n",
        "\n",
        "\n",
        "    def initialize_weights(self) :\n",
        "        for m in self.modules() :\n",
        "            if isinstance(m, nn.Conv2d) :\n",
        "                nn.init.kaiming_normal_(m.weight, a = 0.1)\n",
        "\n",
        "                if m.bias is not None :\n",
        "                    nn.init.constant_(m.bias, 0)\n"
      ]
    },
    {
      "cell_type": "code",
      "execution_count": 289,
      "metadata": {
        "colab": {
          "base_uri": "https://localhost:8080/"
        },
        "id": "MRGdrz1UJcyW",
        "outputId": "f76082fe-6554-4b74-b86e-6418bfc35f6e"
      },
      "outputs": [
        {
          "output_type": "stream",
          "name": "stdout",
          "text": [
            "cuda\n"
          ]
        }
      ],
      "source": [
        "# check the device\n",
        "device = torch.device(\"cuda\" if torch.cuda.is_available() else \"cpu\")\n",
        "print(device)"
      ]
    },
    {
      "cell_type": "markdown",
      "metadata": {
        "id": "1zw_YredJcyX"
      },
      "source": [
        "Build functions which used for training and predicting"
      ]
    },
    {
      "cell_type": "code",
      "execution_count": 278,
      "metadata": {
        "id": "jgyIN2q7JcyX"
      },
      "outputs": [],
      "source": [
        "def training_loop(model, train_dataloader, optimizer, device=device):\n",
        "\n",
        "    model.train() # Sets model to train mode\n",
        "    batch_losses = []\n",
        "\n",
        "    for x_batch, y_batch in train_dataloader:\n",
        "        # Move batches to device\n",
        "        x_batch, y_batch = x_batch.to(device), y_batch.to(device)\n",
        "\n",
        "        # Clear gradients\n",
        "        optimizer.zero_grad()\n",
        "\n",
        "        yhat = model(x_batch)  #predictions on x\n",
        "\n",
        "        # Forward pass\n",
        "        loss = loss_function(yhat, y_batch)\n",
        "\n",
        "        # Backward and optimize\n",
        "        loss.backward()\n",
        "\n",
        "        # Update parameters\n",
        "        optimizer.step()\n",
        "\n",
        "        batch_losses.append(loss.data.item())\n",
        "\n",
        "    train_loss = np.mean(batch_losses)\n",
        "\n",
        "    return train_loss  # Return train_loss and anything else you need\n",
        "\n",
        "def validation_loop(model, val_dataloader, device=device):\n",
        "\n",
        "    model.eval() # Sets model to val mode\n",
        "\n",
        "    batch_losses = []\n",
        "\n",
        "    for x_batch, y_batch in val_dataloader:\n",
        "\n",
        "        x_batch, y_batch = x_batch.to(device), y_batch.to(device)\n",
        "\n",
        "        yhat = model(x_batch)  #predictions on x\n",
        "\n",
        "        loss = loss_function(yhat, y_batch)\n",
        "\n",
        "        batch_losses.append(loss.data.item())\n",
        "\n",
        "    val_loss = np.mean(batch_losses)\n",
        "\n",
        "    return val_loss\n",
        "\n",
        "def train(model, train_dataloader, val_dataloader, optimizer, epochs, device=\"cuda\", patience = None, temp=100):\n",
        "\n",
        "    train_losses = []\n",
        "    val_losses = []\n",
        "\n",
        "    print(f\"Initiating training.\")\n",
        "\n",
        "    # Check if early stop is enabled:\n",
        "    if patience is not None:\n",
        "        # Initialize EarlyStopping\n",
        "        early_stopping = EarlyStopping(patience=patience, verbose=False, path='checkpoint.pt')\n",
        "\n",
        "    for epoch in range(epochs):\n",
        "        # Training loop\n",
        "\n",
        "        train_loss = training_loop(model, train_dataloader, optimizer, device)\n",
        "        train_losses.append(train_loss)\n",
        "\n",
        "        # Validation loop\n",
        "        with torch.no_grad():\n",
        "\n",
        "            val_loss = validation_loop(model, val_dataloader, device)\n",
        "            val_losses.append(val_loss)\n",
        "\n",
        "        if patience != -1:\n",
        "            early_stopping(val_loss, model)\n",
        "\n",
        "            if early_stopping.early_stop:\n",
        "                print(\"Early stop. Going back to the last checkpoint.\")\n",
        "                break\n",
        "\n",
        "        if epoch % temp == 0:\n",
        "            print(f\"[{epoch}/{epochs}] Training loss: {train_loss:.4f}\\t Validation loss: {val_loss:.4f}.\")\n",
        "\n",
        "    if patience != None and early_stopping.early_stop == True:\n",
        "        print('Loading model from checkpoint...')\n",
        "        model.load_state_dict(torch.load('checkpoint.pt'))\n",
        "        print('Checkpoint loaded.')\n",
        "\n",
        "    print(\"training finished.\")\n",
        "\n",
        "    # visualize the loss as the network trained\n",
        "    fig = plt.figure(figsize=(10, 8))\n",
        "    plt.plot(range(1, len(train_losses) + 1), train_losses, label='Training Loss')\n",
        "    plt.plot(range(1, len(val_losses) + 1), val_losses, label='Validation Loss')\n",
        "\n",
        "    # find position of lowest validation loss\n",
        "    minposs = val_losses.index(min(val_losses)) + 1\n",
        "    plt.axvline(minposs, linestyle='--', color='r', label='Early Stopping Checkpoint')\n",
        "\n",
        "    plt.xlabel('epochs')\n",
        "    plt.ylabel('loss')\n",
        "    plt.ylim(0, max(val_losses + train_losses))  # consistent scale\n",
        "    plt.xlim(0, len(train_losses) + 1)  # consistent scale\n",
        "    plt.grid(True)\n",
        "    plt.legend()\n",
        "    plt.tight_layout()\n",
        "    plt.title('Validation and Training Loss of CNN')\n",
        "    plt.show()\n",
        "\n",
        "    return model\n",
        "\n",
        "\n",
        "def predict(model, test_loader, n_features, loss_function, device=device):\n",
        "    # Make predictions using model\n",
        "    preds = []\n",
        "    true_values = []\n",
        "    loss = 0\n",
        "    model.eval()  # prep model for evaluation\n",
        "\n",
        "    with torch.no_grad():\n",
        "        for x_batch, y_batch in test_loader:\n",
        "            # move to device\n",
        "            x_batch, y_batch = x_batch.to(device), y_batch.to(device)\n",
        "\n",
        "            # Make predictions\n",
        "            pred = model(x_batch)\n",
        "\n",
        "            preds.append(np.argmax(pred.cpu().numpy(), axis=1)[0])\n",
        "            true_values.append(y_batch.cpu().numpy()[0])\n",
        "            loss += loss_function(pred, y_batch)\n",
        "\n",
        "        #Calculate Accuracy\n",
        "        accuracy = sum(np.array(preds) == np.array(true_values))/len(true_values)\n",
        "\n",
        "    return preds, true_values, accuracy"
      ]
    },
    {
      "cell_type": "markdown",
      "metadata": {
        "id": "DEvic6k4JcyX"
      },
      "source": [
        "Initialize the model"
      ]
    },
    {
      "cell_type": "code",
      "execution_count": 291,
      "metadata": {
        "colab": {
          "base_uri": "https://localhost:8080/"
        },
        "id": "-xzihqqiJcyX",
        "outputId": "cdceaa31-9701-4e43-fd0e-c6d98b8229a4"
      },
      "outputs": [
        {
          "output_type": "execute_result",
          "data": {
            "text/plain": [
              "MelSpecClassifier(\n",
              "  (b1): Sequential(\n",
              "    (0): Conv2d(1, 64, kernel_size=(7, 7), stride=(2, 2), padding=(1, 1))\n",
              "    (1): PReLU(num_parameters=1)\n",
              "    (2): MaxPool2d(kernel_size=3, stride=2, padding=1, dilation=1, ceil_mode=False)\n",
              "    (3): BatchNorm2d(64, eps=1e-05, momentum=0.1, affine=True, track_running_stats=True)\n",
              "  )\n",
              "  (conv2): Conv2d(64, 256, kernel_size=(5, 5), stride=(2, 2), padding=(1, 1))\n",
              "  (relu2): PReLU(num_parameters=1)\n",
              "  (bn2): BatchNorm2d(256, eps=1e-05, momentum=0.1, affine=True, track_running_stats=True)\n",
              "  (conv3): Conv2d(256, 512, kernel_size=(3, 3), stride=(2, 2), padding=(1, 1))\n",
              "  (relu3): PReLU(num_parameters=1)\n",
              "  (bn3): BatchNorm2d(512, eps=1e-05, momentum=0.1, affine=True, track_running_stats=True)\n",
              "  (conv4): Conv2d(512, 256, kernel_size=(3, 3), stride=(2, 2), padding=(1, 1))\n",
              "  (relu4): PReLU(num_parameters=1)\n",
              "  (bn4): BatchNorm2d(256, eps=1e-05, momentum=0.1, affine=True, track_running_stats=True)\n",
              "  (conv5): Conv2d(256, 128, kernel_size=(3, 3), stride=(2, 2), padding=(1, 1))\n",
              "  (relu5): PReLU(num_parameters=1)\n",
              "  (bn5): BatchNorm2d(128, eps=1e-05, momentum=0.1, affine=True, track_running_stats=True)\n",
              "  (drp): Dropout2d(p=0.4, inplace=False)\n",
              "  (ap): AdaptiveAvgPool2d(output_size=1)\n",
              "  (fc): Linear(in_features=128, out_features=64, bias=True)\n",
              "  (fitter): Sequential(\n",
              "    (0): Sequential(\n",
              "      (0): Conv2d(1, 64, kernel_size=(7, 7), stride=(2, 2), padding=(1, 1))\n",
              "      (1): PReLU(num_parameters=1)\n",
              "      (2): MaxPool2d(kernel_size=3, stride=2, padding=1, dilation=1, ceil_mode=False)\n",
              "      (3): BatchNorm2d(64, eps=1e-05, momentum=0.1, affine=True, track_running_stats=True)\n",
              "    )\n",
              "    (1): Conv2d(64, 256, kernel_size=(5, 5), stride=(2, 2), padding=(1, 1))\n",
              "    (2): PReLU(num_parameters=1)\n",
              "    (3): BatchNorm2d(256, eps=1e-05, momentum=0.1, affine=True, track_running_stats=True)\n",
              "    (4): Conv2d(256, 512, kernel_size=(3, 3), stride=(2, 2), padding=(1, 1))\n",
              "    (5): PReLU(num_parameters=1)\n",
              "    (6): BatchNorm2d(512, eps=1e-05, momentum=0.1, affine=True, track_running_stats=True)\n",
              "    (7): Conv2d(512, 256, kernel_size=(3, 3), stride=(2, 2), padding=(1, 1))\n",
              "    (8): PReLU(num_parameters=1)\n",
              "    (9): BatchNorm2d(256, eps=1e-05, momentum=0.1, affine=True, track_running_stats=True)\n",
              "    (10): Conv2d(256, 128, kernel_size=(3, 3), stride=(2, 2), padding=(1, 1))\n",
              "    (11): PReLU(num_parameters=1)\n",
              "    (12): BatchNorm2d(128, eps=1e-05, momentum=0.1, affine=True, track_running_stats=True)\n",
              "    (13): Dropout2d(p=0.4, inplace=False)\n",
              "    (14): AdaptiveAvgPool2d(output_size=1)\n",
              "    (15): Flatten(start_dim=1, end_dim=-1)\n",
              "    (16): Linear(in_features=128, out_features=64, bias=True)\n",
              "    (17): Linear(in_features=64, out_features=5, bias=True)\n",
              "  )\n",
              ")"
            ]
          },
          "metadata": {},
          "execution_count": 291
        }
      ],
      "source": [
        "model = MelSpecClassifier()\n",
        "model.to(device)"
      ]
    },
    {
      "cell_type": "code",
      "execution_count": 292,
      "metadata": {
        "id": "CXTZqg3iJcyX"
      },
      "outputs": [],
      "source": [
        "learning_rate = 0.00011\n",
        "weight_decay = 1e-4\n",
        "\n",
        "\n",
        "loss_function = nn.CrossEntropyLoss()\n",
        "optimizer = torch.optim.Adam(model.parameters(), lr = learning_rate, weight_decay = weight_decay)"
      ]
    },
    {
      "cell_type": "code",
      "execution_count": 293,
      "metadata": {
        "colab": {
          "base_uri": "https://localhost:8080/",
          "height": 1000
        },
        "id": "Er4qccEmJcyX",
        "outputId": "9f3c191a-44cd-46f6-9124-167a1654a3a8"
      },
      "outputs": [
        {
          "output_type": "stream",
          "name": "stdout",
          "text": [
            "Initiating training.\n",
            "[0/1000] Training loss: 1.3802\t Validation loss: 1.2395.\n",
            "[5/1000] Training loss: 0.6162\t Validation loss: 0.7167.\n",
            "[10/1000] Training loss: 0.3247\t Validation loss: 0.4855.\n",
            "EarlyStopping counter: 1 out of 15\n",
            "EarlyStopping counter: 1 out of 15\n",
            "[15/1000] Training loss: 0.1749\t Validation loss: 0.4009.\n",
            "EarlyStopping counter: 1 out of 15\n",
            "EarlyStopping counter: 1 out of 15\n",
            "[20/1000] Training loss: 0.1058\t Validation loss: 0.3574.\n",
            "EarlyStopping counter: 2 out of 15\n",
            "EarlyStopping counter: 1 out of 15\n",
            "EarlyStopping counter: 2 out of 15\n",
            "EarlyStopping counter: 3 out of 15\n",
            "[25/1000] Training loss: 0.0600\t Validation loss: 0.3328.\n",
            "EarlyStopping counter: 1 out of 15\n",
            "EarlyStopping counter: 1 out of 15\n",
            "EarlyStopping counter: 2 out of 15\n",
            "[30/1000] Training loss: 0.0493\t Validation loss: 0.3214.\n",
            "EarlyStopping counter: 3 out of 15\n",
            "EarlyStopping counter: 4 out of 15\n",
            "EarlyStopping counter: 5 out of 15\n",
            "EarlyStopping counter: 6 out of 15\n",
            "EarlyStopping counter: 7 out of 15\n",
            "[35/1000] Training loss: 0.0363\t Validation loss: 0.3190.\n",
            "EarlyStopping counter: 8 out of 15\n",
            "EarlyStopping counter: 1 out of 15\n",
            "EarlyStopping counter: 2 out of 15\n",
            "EarlyStopping counter: 3 out of 15\n",
            "[40/1000] Training loss: 0.0220\t Validation loss: 0.3566.\n",
            "EarlyStopping counter: 4 out of 15\n",
            "EarlyStopping counter: 5 out of 15\n",
            "EarlyStopping counter: 6 out of 15\n",
            "EarlyStopping counter: 1 out of 15\n",
            "[45/1000] Training loss: 0.0141\t Validation loss: 0.2984.\n",
            "EarlyStopping counter: 2 out of 15\n",
            "EarlyStopping counter: 3 out of 15\n",
            "EarlyStopping counter: 1 out of 15\n",
            "EarlyStopping counter: 2 out of 15\n",
            "[50/1000] Training loss: 0.0113\t Validation loss: 0.3397.\n",
            "EarlyStopping counter: 3 out of 15\n",
            "EarlyStopping counter: 4 out of 15\n",
            "EarlyStopping counter: 5 out of 15\n",
            "EarlyStopping counter: 6 out of 15\n",
            "EarlyStopping counter: 7 out of 15\n",
            "[55/1000] Training loss: 0.0153\t Validation loss: 0.2809.\n",
            "EarlyStopping counter: 1 out of 15\n",
            "EarlyStopping counter: 2 out of 15\n",
            "EarlyStopping counter: 3 out of 15\n",
            "EarlyStopping counter: 4 out of 15\n",
            "[60/1000] Training loss: 0.0094\t Validation loss: 0.3073.\n",
            "EarlyStopping counter: 5 out of 15\n",
            "EarlyStopping counter: 6 out of 15\n",
            "EarlyStopping counter: 7 out of 15\n",
            "EarlyStopping counter: 8 out of 15\n",
            "EarlyStopping counter: 9 out of 15\n",
            "[65/1000] Training loss: 0.0073\t Validation loss: 0.2865.\n",
            "EarlyStopping counter: 10 out of 15\n",
            "EarlyStopping counter: 11 out of 15\n",
            "EarlyStopping counter: 12 out of 15\n",
            "EarlyStopping counter: 13 out of 15\n",
            "EarlyStopping counter: 14 out of 15\n",
            "[70/1000] Training loss: 0.0088\t Validation loss: 0.2833.\n",
            "EarlyStopping counter: 15 out of 15\n",
            "Early stop. Going back to the last checkpoint.\n",
            "Loading model from checkpoint...\n",
            "Checkpoint loaded.\n",
            "training finished.\n"
          ]
        },
        {
          "output_type": "display_data",
          "data": {
            "text/plain": [
              "<Figure size 1000x800 with 1 Axes>"
            ],
            "image/png": "[encoded data removed]"
          },
          "metadata": {}
        }
      ],
      "source": [
        "model = train(model, train_dataloader, val_dataloader, optimizer, epochs=1000, device=\"cuda\", patience = 15, temp=5)"
      ]
    },
    {
      "cell_type": "code",
      "execution_count": 294,
      "metadata": {
        "colab": {
          "base_uri": "https://localhost:8080/"
        },
        "id": "BcyGkTsPJcyX",
        "outputId": "3ca64980-acc5-49c8-d2c1-0b335be4555c"
      },
      "outputs": [
        {
          "output_type": "stream",
          "name": "stdout",
          "text": [
            "              precision    recall  f1-score   support\n",
            "\n",
            "           0       0.94      1.00      0.97        15\n",
            "           1       1.00      0.73      0.85        15\n",
            "           2       0.88      0.93      0.90        15\n",
            "           3       0.82      0.93      0.87        15\n",
            "           4       0.93      0.93      0.93        15\n",
            "\n",
            "    accuracy                           0.91        75\n",
            "   macro avg       0.91      0.91      0.91        75\n",
            "weighted avg       0.91      0.91      0.91        75\n",
            "\n"
          ]
        }
      ],
      "source": [
        "preds, true_values, accuracy = predict(model, test_dataloader, n_features=128, loss_function=loss_function, device=device)\n",
        "print(classification_report(true_values, preds))"
      ]
    },
    {
      "cell_type": "code",
      "source": [
        "classlist = list(codes.keys())\n",
        "\n",
        "# Plotting confusion matrices for small and big data\n",
        "fig, ax = plt.subplots(nrows=1, ncols=1, figsize=(12, 5))  # Set up the figure\n",
        "\n",
        "\n",
        "y_ = [true_values]\n",
        "preds_lst = [preds]\n",
        "titles = ['Test Data (mel 128 features)']\n",
        "for i in range(1):\n",
        "    actual = y_[i]\n",
        "    predicted =preds_lst[i]  # get the prediction for each model (each loop)\n",
        "\n",
        "    confusion_matrix = metrics.confusion_matrix(np.array(actual), np.array(predicted))\n",
        "    cm_display = metrics.ConfusionMatrixDisplay(confusion_matrix=confusion_matrix)\n",
        "    cm_display.plot(ax=ax)\n",
        "    ax.set_xticklabels(classlist, rotation=45)\n",
        "    ax.set_yticklabels(classlist)\n",
        "    ax.set_title(titles[i])\n",
        "\n",
        "fig.suptitle('CNN model prediction on test data')\n",
        "plt.show()"
      ],
      "metadata": {
        "colab": {
          "base_uri": "https://localhost:8080/",
          "height": 552
        },
        "id": "9RHF4LqP3hkX",
        "outputId": "5ec2e8ec-e5af-4cbe-80f5-a77581070307"
      },
      "execution_count": 295,
      "outputs": [
        {
          "output_type": "display_data",
          "data": {
            "text/plain": [
              "<Figure size 1200x500 with 2 Axes>"
            ],
            "image/png": "[encoded data removed]"
          },
          "metadata": {}
        }
      ]
    }
  ],
  "metadata": {
    "kernelspec": {
      "display_name": "Python 3",
      "name": "python3"
    },
    "language_info": {
      "codemirror_mode": {
        "name": "ipython",
        "version": 3
      },
      "file_extension": ".py",
      "mimetype": "text/x-python",
      "name": "python",
      "nbconvert_exporter": "python",
      "pygments_lexer": "ipython3",
      "version": "3.9.17"
    },
    "orig_nbformat": 4,
    "colab": {
      "provenance": [],
      "machine_shape": "hm",
      "gpuType": "V100",
      "include_colab_link": true
    },
    "accelerator": "GPU"
  },
  "nbformat": 4,
  "nbformat_minor": 0
}